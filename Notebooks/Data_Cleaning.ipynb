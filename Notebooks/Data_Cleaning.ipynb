{
 "cells": [
  {
   "cell_type": "markdown",
   "metadata": {},
   "source": [
    "# Sharks Attack Dataset Cleaning 🦈🧹\n",
    "\n",
    "In this notebook, we will be cleaning the `shark_attacks.csv` dataset, leaving a suitable dataset for exploratory data analysis.\n",
    "However, we have been restricted for this specific task, our lead teacher has proposed the following restrictions:\n",
    "\n",
    "- There must be the same number of columns as there are in the raw CSV, so in our final cleaned version we need to have a total of `23` columns.\n",
    "- There must remain at least `2500` rows after our cleaning.\n",
    "- So our `df.shape = (2500, 23)`"
   ]
  },
  {
   "cell_type": "code",
   "execution_count": 1,
   "metadata": {},
   "outputs": [
    {
     "name": "stdout",
     "output_type": "stream",
     "text": [
      "Requirement already satisfied: fuzzywuzzy in /Users/borch/anaconda3/envs/clase/lib/python3.10/site-packages (0.18.0)\n",
      "Note: you may need to restart the kernel to use updated packages.\n"
     ]
    }
   ],
   "source": [
    "%pip install fuzzywuzzy"
   ]
  },
  {
   "cell_type": "code",
   "execution_count": 2,
   "metadata": {},
   "outputs": [
    {
     "name": "stderr",
     "output_type": "stream",
     "text": [
      "/Users/borch/anaconda3/envs/clase/lib/python3.10/site-packages/fuzzywuzzy/fuzz.py:11: UserWarning: Using slow pure-python SequenceMatcher. Install python-Levenshtein to remove this warning\n",
      "  warnings.warn('Using slow pure-python SequenceMatcher. Install python-Levenshtein to remove this warning')\n"
     ]
    }
   ],
   "source": [
    "# Import the neccesary libraries for our cleaning\n",
    "import pandas as pd\n",
    "import numpy as np\n",
    "import matplotlib.pyplot as plt\n",
    "import seaborn as sns\n",
    "import re\n",
    "from fuzzywuzzy import fuzz\n",
    "from fuzzywuzzy import process"
   ]
  },
  {
   "cell_type": "markdown",
   "metadata": {},
   "source": [
    "## Step 1: Load the CSV into a Dataframe 📥"
   ]
  },
  {
   "cell_type": "code",
   "execution_count": 3,
   "metadata": {},
   "outputs": [],
   "source": [
    "# Let's first address some issues, let's display ALL columns\n",
    "pd.set_option('display.max_columns', 50)"
   ]
  },
  {
   "cell_type": "code",
   "execution_count": 4,
   "metadata": {},
   "outputs": [],
   "source": [
    "sharks_raw = pd.read_csv('../data/shark_attacks.csv', encoding=\"latin-1\")\n",
    "pd.set_option('display.max_rows', 50)"
   ]
  },
  {
   "cell_type": "code",
   "execution_count": 5,
   "metadata": {},
   "outputs": [
    {
     "data": {
      "text/plain": [
       "(25723, 24)"
      ]
     },
     "execution_count": 5,
     "metadata": {},
     "output_type": "execute_result"
    }
   ],
   "source": [
    "# Let's save the shape of our original dataframe to make sure we comply with restrictions\n",
    "original_shape = sharks_raw.shape\n",
    "original_shape"
   ]
  },
  {
   "cell_type": "code",
   "execution_count": 6,
   "metadata": {},
   "outputs": [],
   "source": [
    "# We now will work with our copy of the original dataframe and start cleaning\n",
    "sharks = sharks_raw.copy()"
   ]
  },
  {
   "cell_type": "markdown",
   "metadata": {},
   "source": [
    "## Step 2: Explore the Data\n"
   ]
  },
  {
   "cell_type": "code",
   "execution_count": 7,
   "metadata": {},
   "outputs": [
    {
     "data": {
      "text/html": [
       "<div>\n",
       "<style scoped>\n",
       "    .dataframe tbody tr th:only-of-type {\n",
       "        vertical-align: middle;\n",
       "    }\n",
       "\n",
       "    .dataframe tbody tr th {\n",
       "        vertical-align: top;\n",
       "    }\n",
       "\n",
       "    .dataframe thead th {\n",
       "        text-align: right;\n",
       "    }\n",
       "</style>\n",
       "<table border=\"1\" class=\"dataframe\">\n",
       "  <thead>\n",
       "    <tr style=\"text-align: right;\">\n",
       "      <th></th>\n",
       "      <th>Case Number</th>\n",
       "      <th>Date</th>\n",
       "      <th>Year</th>\n",
       "      <th>Type</th>\n",
       "      <th>Country</th>\n",
       "      <th>Area</th>\n",
       "      <th>Location</th>\n",
       "      <th>Activity</th>\n",
       "      <th>Name</th>\n",
       "      <th>Sex</th>\n",
       "      <th>Age</th>\n",
       "      <th>Injury</th>\n",
       "      <th>Fatal (Y/N)</th>\n",
       "      <th>Time</th>\n",
       "      <th>Species</th>\n",
       "      <th>Investigator or Source</th>\n",
       "      <th>pdf</th>\n",
       "      <th>href formula</th>\n",
       "      <th>href</th>\n",
       "      <th>Case Number.1</th>\n",
       "      <th>Case Number.2</th>\n",
       "      <th>original order</th>\n",
       "      <th>Unnamed: 22</th>\n",
       "      <th>Unnamed: 23</th>\n",
       "    </tr>\n",
       "  </thead>\n",
       "  <tbody>\n",
       "    <tr>\n",
       "      <th>0</th>\n",
       "      <td>2018.06.25</td>\n",
       "      <td>25-Jun-2018</td>\n",
       "      <td>2018.0</td>\n",
       "      <td>Boating</td>\n",
       "      <td>USA</td>\n",
       "      <td>California</td>\n",
       "      <td>Oceanside, San Diego County</td>\n",
       "      <td>Paddling</td>\n",
       "      <td>Julie Wolfe</td>\n",
       "      <td>F</td>\n",
       "      <td>57</td>\n",
       "      <td>No injury to occupant, outrigger canoe and pad...</td>\n",
       "      <td>N</td>\n",
       "      <td>18h00</td>\n",
       "      <td>White shark</td>\n",
       "      <td>R. Collier, GSAF</td>\n",
       "      <td>2018.06.25-Wolfe.pdf</td>\n",
       "      <td>http://sharkattackfile.net/spreadsheets/pdf_di...</td>\n",
       "      <td>http://sharkattackfile.net/spreadsheets/pdf_di...</td>\n",
       "      <td>2018.06.25</td>\n",
       "      <td>2018.06.25</td>\n",
       "      <td>6303.0</td>\n",
       "      <td>NaN</td>\n",
       "      <td>NaN</td>\n",
       "    </tr>\n",
       "    <tr>\n",
       "      <th>1</th>\n",
       "      <td>2018.06.18</td>\n",
       "      <td>18-Jun-2018</td>\n",
       "      <td>2018.0</td>\n",
       "      <td>Unprovoked</td>\n",
       "      <td>USA</td>\n",
       "      <td>Georgia</td>\n",
       "      <td>St. Simon Island, Glynn County</td>\n",
       "      <td>Standing</td>\n",
       "      <td>Adyson McNeely</td>\n",
       "      <td>F</td>\n",
       "      <td>11</td>\n",
       "      <td>Minor injury to left thigh</td>\n",
       "      <td>N</td>\n",
       "      <td>14h00  -15h00</td>\n",
       "      <td>NaN</td>\n",
       "      <td>K.McMurray, TrackingSharks.com</td>\n",
       "      <td>2018.06.18-McNeely.pdf</td>\n",
       "      <td>http://sharkattackfile.net/spreadsheets/pdf_di...</td>\n",
       "      <td>http://sharkattackfile.net/spreadsheets/pdf_di...</td>\n",
       "      <td>2018.06.18</td>\n",
       "      <td>2018.06.18</td>\n",
       "      <td>6302.0</td>\n",
       "      <td>NaN</td>\n",
       "      <td>NaN</td>\n",
       "    </tr>\n",
       "    <tr>\n",
       "      <th>2</th>\n",
       "      <td>2018.06.09</td>\n",
       "      <td>09-Jun-2018</td>\n",
       "      <td>2018.0</td>\n",
       "      <td>Invalid</td>\n",
       "      <td>USA</td>\n",
       "      <td>Hawaii</td>\n",
       "      <td>Habush, Oahu</td>\n",
       "      <td>Surfing</td>\n",
       "      <td>John Denges</td>\n",
       "      <td>M</td>\n",
       "      <td>48</td>\n",
       "      <td>Injury to left lower leg from surfboard skeg</td>\n",
       "      <td>N</td>\n",
       "      <td>07h45</td>\n",
       "      <td>NaN</td>\n",
       "      <td>K.McMurray, TrackingSharks.com</td>\n",
       "      <td>2018.06.09-Denges.pdf</td>\n",
       "      <td>http://sharkattackfile.net/spreadsheets/pdf_di...</td>\n",
       "      <td>http://sharkattackfile.net/spreadsheets/pdf_di...</td>\n",
       "      <td>2018.06.09</td>\n",
       "      <td>2018.06.09</td>\n",
       "      <td>6301.0</td>\n",
       "      <td>NaN</td>\n",
       "      <td>NaN</td>\n",
       "    </tr>\n",
       "    <tr>\n",
       "      <th>3</th>\n",
       "      <td>2018.06.08</td>\n",
       "      <td>08-Jun-2018</td>\n",
       "      <td>2018.0</td>\n",
       "      <td>Unprovoked</td>\n",
       "      <td>AUSTRALIA</td>\n",
       "      <td>New South Wales</td>\n",
       "      <td>Arrawarra Headland</td>\n",
       "      <td>Surfing</td>\n",
       "      <td>male</td>\n",
       "      <td>M</td>\n",
       "      <td>NaN</td>\n",
       "      <td>Minor injury to lower leg</td>\n",
       "      <td>N</td>\n",
       "      <td>NaN</td>\n",
       "      <td>2 m shark</td>\n",
       "      <td>B. Myatt, GSAF</td>\n",
       "      <td>2018.06.08-Arrawarra.pdf</td>\n",
       "      <td>http://sharkattackfile.net/spreadsheets/pdf_di...</td>\n",
       "      <td>http://sharkattackfile.net/spreadsheets/pdf_di...</td>\n",
       "      <td>2018.06.08</td>\n",
       "      <td>2018.06.08</td>\n",
       "      <td>6300.0</td>\n",
       "      <td>NaN</td>\n",
       "      <td>NaN</td>\n",
       "    </tr>\n",
       "    <tr>\n",
       "      <th>4</th>\n",
       "      <td>2018.06.04</td>\n",
       "      <td>04-Jun-2018</td>\n",
       "      <td>2018.0</td>\n",
       "      <td>Provoked</td>\n",
       "      <td>MEXICO</td>\n",
       "      <td>Colima</td>\n",
       "      <td>La Ticla</td>\n",
       "      <td>Free diving</td>\n",
       "      <td>Gustavo Ramos</td>\n",
       "      <td>M</td>\n",
       "      <td>NaN</td>\n",
       "      <td>Lacerations to leg &amp; hand shark PROVOKED INCIDENT</td>\n",
       "      <td>N</td>\n",
       "      <td>NaN</td>\n",
       "      <td>Tiger shark, 3m</td>\n",
       "      <td>A .Kipper</td>\n",
       "      <td>2018.06.04-Ramos.pdf</td>\n",
       "      <td>http://sharkattackfile.net/spreadsheets/pdf_di...</td>\n",
       "      <td>http://sharkattackfile.net/spreadsheets/pdf_di...</td>\n",
       "      <td>2018.06.04</td>\n",
       "      <td>2018.06.04</td>\n",
       "      <td>6299.0</td>\n",
       "      <td>NaN</td>\n",
       "      <td>NaN</td>\n",
       "    </tr>\n",
       "  </tbody>\n",
       "</table>\n",
       "</div>"
      ],
      "text/plain": [
       "  Case Number         Date    Year        Type    Country             Area  \\\n",
       "0  2018.06.25  25-Jun-2018  2018.0     Boating        USA       California   \n",
       "1  2018.06.18  18-Jun-2018  2018.0  Unprovoked        USA          Georgia   \n",
       "2  2018.06.09  09-Jun-2018  2018.0     Invalid        USA           Hawaii   \n",
       "3  2018.06.08  08-Jun-2018  2018.0  Unprovoked  AUSTRALIA  New South Wales   \n",
       "4  2018.06.04  04-Jun-2018  2018.0    Provoked     MEXICO           Colima   \n",
       "\n",
       "                         Location     Activity             Name Sex   Age  \\\n",
       "0     Oceanside, San Diego County     Paddling      Julie Wolfe    F   57   \n",
       "1  St. Simon Island, Glynn County     Standing  Adyson McNeely     F   11   \n",
       "2                    Habush, Oahu      Surfing      John Denges    M   48   \n",
       "3              Arrawarra Headland      Surfing             male    M  NaN   \n",
       "4                        La Ticla  Free diving   Gustavo Ramos     M  NaN   \n",
       "\n",
       "                                              Injury Fatal (Y/N)  \\\n",
       "0  No injury to occupant, outrigger canoe and pad...           N   \n",
       "1                         Minor injury to left thigh           N   \n",
       "2       Injury to left lower leg from surfboard skeg           N   \n",
       "3                          Minor injury to lower leg           N   \n",
       "4  Lacerations to leg & hand shark PROVOKED INCIDENT           N   \n",
       "\n",
       "            Time         Species           Investigator or Source  \\\n",
       "0          18h00      White shark                R. Collier, GSAF   \n",
       "1  14h00  -15h00              NaN  K.McMurray, TrackingSharks.com   \n",
       "2          07h45              NaN  K.McMurray, TrackingSharks.com   \n",
       "3            NaN        2 m shark                  B. Myatt, GSAF   \n",
       "4            NaN  Tiger shark, 3m                       A .Kipper   \n",
       "\n",
       "                        pdf  \\\n",
       "0      2018.06.25-Wolfe.pdf   \n",
       "1    2018.06.18-McNeely.pdf   \n",
       "2     2018.06.09-Denges.pdf   \n",
       "3  2018.06.08-Arrawarra.pdf   \n",
       "4      2018.06.04-Ramos.pdf   \n",
       "\n",
       "                                        href formula  \\\n",
       "0  http://sharkattackfile.net/spreadsheets/pdf_di...   \n",
       "1  http://sharkattackfile.net/spreadsheets/pdf_di...   \n",
       "2  http://sharkattackfile.net/spreadsheets/pdf_di...   \n",
       "3  http://sharkattackfile.net/spreadsheets/pdf_di...   \n",
       "4  http://sharkattackfile.net/spreadsheets/pdf_di...   \n",
       "\n",
       "                                                href Case Number.1  \\\n",
       "0  http://sharkattackfile.net/spreadsheets/pdf_di...    2018.06.25   \n",
       "1  http://sharkattackfile.net/spreadsheets/pdf_di...    2018.06.18   \n",
       "2  http://sharkattackfile.net/spreadsheets/pdf_di...    2018.06.09   \n",
       "3  http://sharkattackfile.net/spreadsheets/pdf_di...    2018.06.08   \n",
       "4  http://sharkattackfile.net/spreadsheets/pdf_di...    2018.06.04   \n",
       "\n",
       "  Case Number.2  original order Unnamed: 22 Unnamed: 23  \n",
       "0    2018.06.25          6303.0         NaN         NaN  \n",
       "1    2018.06.18          6302.0         NaN         NaN  \n",
       "2    2018.06.09          6301.0         NaN         NaN  \n",
       "3    2018.06.08          6300.0         NaN         NaN  \n",
       "4    2018.06.04          6299.0         NaN         NaN  "
      ]
     },
     "execution_count": 7,
     "metadata": {},
     "output_type": "execute_result"
    }
   ],
   "source": [
    "sharks.head()"
   ]
  },
  {
   "cell_type": "code",
   "execution_count": 8,
   "metadata": {},
   "outputs": [
    {
     "data": {
      "text/html": [
       "<div>\n",
       "<style scoped>\n",
       "    .dataframe tbody tr th:only-of-type {\n",
       "        vertical-align: middle;\n",
       "    }\n",
       "\n",
       "    .dataframe tbody tr th {\n",
       "        vertical-align: top;\n",
       "    }\n",
       "\n",
       "    .dataframe thead th {\n",
       "        text-align: right;\n",
       "    }\n",
       "</style>\n",
       "<table border=\"1\" class=\"dataframe\">\n",
       "  <thead>\n",
       "    <tr style=\"text-align: right;\">\n",
       "      <th></th>\n",
       "      <th>Year</th>\n",
       "      <th>original order</th>\n",
       "    </tr>\n",
       "  </thead>\n",
       "  <tbody>\n",
       "    <tr>\n",
       "      <th>count</th>\n",
       "      <td>6300.000000</td>\n",
       "      <td>6309.000000</td>\n",
       "    </tr>\n",
       "    <tr>\n",
       "      <th>mean</th>\n",
       "      <td>1927.272381</td>\n",
       "      <td>3155.999683</td>\n",
       "    </tr>\n",
       "    <tr>\n",
       "      <th>std</th>\n",
       "      <td>281.116308</td>\n",
       "      <td>1821.396206</td>\n",
       "    </tr>\n",
       "    <tr>\n",
       "      <th>min</th>\n",
       "      <td>0.000000</td>\n",
       "      <td>2.000000</td>\n",
       "    </tr>\n",
       "    <tr>\n",
       "      <th>25%</th>\n",
       "      <td>1942.000000</td>\n",
       "      <td>1579.000000</td>\n",
       "    </tr>\n",
       "    <tr>\n",
       "      <th>50%</th>\n",
       "      <td>1977.000000</td>\n",
       "      <td>3156.000000</td>\n",
       "    </tr>\n",
       "    <tr>\n",
       "      <th>75%</th>\n",
       "      <td>2005.000000</td>\n",
       "      <td>4733.000000</td>\n",
       "    </tr>\n",
       "    <tr>\n",
       "      <th>max</th>\n",
       "      <td>2018.000000</td>\n",
       "      <td>6310.000000</td>\n",
       "    </tr>\n",
       "  </tbody>\n",
       "</table>\n",
       "</div>"
      ],
      "text/plain": [
       "              Year  original order\n",
       "count  6300.000000     6309.000000\n",
       "mean   1927.272381     3155.999683\n",
       "std     281.116308     1821.396206\n",
       "min       0.000000        2.000000\n",
       "25%    1942.000000     1579.000000\n",
       "50%    1977.000000     3156.000000\n",
       "75%    2005.000000     4733.000000\n",
       "max    2018.000000     6310.000000"
      ]
     },
     "execution_count": 8,
     "metadata": {},
     "output_type": "execute_result"
    }
   ],
   "source": [
    "sharks.describe()"
   ]
  },
  {
   "cell_type": "code",
   "execution_count": 9,
   "metadata": {},
   "outputs": [
    {
     "data": {
      "text/plain": [
       "Case Number               17021\n",
       "Date                      19421\n",
       "Year                      19423\n",
       "Type                      19425\n",
       "Country                   19471\n",
       "Area                      19876\n",
       "Location                  19961\n",
       "Activity                  19965\n",
       "Name                      19631\n",
       "Sex                       19986\n",
       "Age                       22252\n",
       "Injury                    19449\n",
       "Fatal (Y/N)               19960\n",
       "Time                      22775\n",
       "Species                   22259\n",
       "Investigator or Source    19438\n",
       "pdf                       19421\n",
       "href formula              19422\n",
       "href                      19421\n",
       "Case Number.1             19421\n",
       "Case Number.2             19421\n",
       "original order            19414\n",
       "Unnamed: 22               25722\n",
       "Unnamed: 23               25721\n",
       "dtype: int64"
      ]
     },
     "execution_count": 9,
     "metadata": {},
     "output_type": "execute_result"
    }
   ],
   "source": [
    "sharks.isnull().sum()"
   ]
  },
  {
   "cell_type": "markdown",
   "metadata": {},
   "source": [
    "### Let's normalize the columns, as there is a lot of spaces, uppercases, and overall mess"
   ]
  },
  {
   "cell_type": "code",
   "execution_count": 10,
   "metadata": {},
   "outputs": [
    {
     "data": {
      "text/plain": [
       "['case_number',\n",
       " 'date',\n",
       " 'year',\n",
       " 'type',\n",
       " 'country',\n",
       " 'area',\n",
       " 'location',\n",
       " 'activity',\n",
       " 'name',\n",
       " 'sex',\n",
       " 'age',\n",
       " 'injury',\n",
       " 'fatal_(y/n)',\n",
       " 'time',\n",
       " 'species',\n",
       " 'investigator_or_source',\n",
       " 'pdf',\n",
       " 'href_formula',\n",
       " 'href',\n",
       " 'case_number.1',\n",
       " 'case_number.2',\n",
       " 'original_order',\n",
       " 'unnamed:_22',\n",
       " 'unnamed:_23']"
      ]
     },
     "execution_count": 10,
     "metadata": {},
     "output_type": "execute_result"
    }
   ],
   "source": [
    "# list of original col names\n",
    "raw_cols = list(sharks.columns)\n",
    "new_cols = []\n",
    "\n",
    "for c in raw_cols:\n",
    "    splitted = c.split()\n",
    "    res = '_'.join(splitted).lower()\n",
    "    new_cols.append(res)\n",
    "    \n",
    "new_cols"
   ]
  },
  {
   "cell_type": "code",
   "execution_count": 11,
   "metadata": {},
   "outputs": [
    {
     "data": {
      "text/plain": [
       "['case_number',\n",
       " 'date',\n",
       " 'year',\n",
       " 'type',\n",
       " 'country',\n",
       " 'area',\n",
       " 'location',\n",
       " 'activity',\n",
       " 'name',\n",
       " 'sex',\n",
       " 'age',\n",
       " 'injury',\n",
       " 'fatal',\n",
       " 'time',\n",
       " 'species',\n",
       " 'investigator_or_source',\n",
       " 'pdf',\n",
       " 'href_formula',\n",
       " 'href',\n",
       " 'case_number_1',\n",
       " 'case_number_2',\n",
       " 'original_order',\n",
       " 'unnamed_1',\n",
       " 'unnamed_2']"
      ]
     },
     "execution_count": 11,
     "metadata": {},
     "output_type": "execute_result"
    }
   ],
   "source": [
    "new_cols[-5] = new_cols[-5].replace('.', '_')\n",
    "new_cols[-4] = new_cols[-4].replace('.', '_')\n",
    "new_cols[12] = 'fatal'\n",
    "new_cols[-2] = 'unnamed_1'\n",
    "new_cols[-1] = 'unnamed_2'\n",
    "\n",
    "new_cols"
   ]
  },
  {
   "cell_type": "code",
   "execution_count": 12,
   "metadata": {},
   "outputs": [
    {
     "data": {
      "text/html": [
       "<div>\n",
       "<style scoped>\n",
       "    .dataframe tbody tr th:only-of-type {\n",
       "        vertical-align: middle;\n",
       "    }\n",
       "\n",
       "    .dataframe tbody tr th {\n",
       "        vertical-align: top;\n",
       "    }\n",
       "\n",
       "    .dataframe thead th {\n",
       "        text-align: right;\n",
       "    }\n",
       "</style>\n",
       "<table border=\"1\" class=\"dataframe\">\n",
       "  <thead>\n",
       "    <tr style=\"text-align: right;\">\n",
       "      <th></th>\n",
       "      <th>case_number</th>\n",
       "      <th>date</th>\n",
       "      <th>year</th>\n",
       "      <th>type</th>\n",
       "      <th>country</th>\n",
       "      <th>area</th>\n",
       "      <th>location</th>\n",
       "      <th>activity</th>\n",
       "      <th>name</th>\n",
       "      <th>sex</th>\n",
       "      <th>age</th>\n",
       "      <th>injury</th>\n",
       "      <th>fatal</th>\n",
       "      <th>time</th>\n",
       "      <th>species</th>\n",
       "      <th>investigator_or_source</th>\n",
       "      <th>pdf</th>\n",
       "      <th>href_formula</th>\n",
       "      <th>href</th>\n",
       "      <th>case_number_1</th>\n",
       "      <th>case_number_2</th>\n",
       "      <th>original_order</th>\n",
       "      <th>unnamed_1</th>\n",
       "      <th>unnamed_2</th>\n",
       "    </tr>\n",
       "  </thead>\n",
       "  <tbody>\n",
       "    <tr>\n",
       "      <th>0</th>\n",
       "      <td>2018.06.25</td>\n",
       "      <td>25-Jun-2018</td>\n",
       "      <td>2018.0</td>\n",
       "      <td>Boating</td>\n",
       "      <td>USA</td>\n",
       "      <td>California</td>\n",
       "      <td>Oceanside, San Diego County</td>\n",
       "      <td>Paddling</td>\n",
       "      <td>Julie Wolfe</td>\n",
       "      <td>F</td>\n",
       "      <td>57</td>\n",
       "      <td>No injury to occupant, outrigger canoe and pad...</td>\n",
       "      <td>N</td>\n",
       "      <td>18h00</td>\n",
       "      <td>White shark</td>\n",
       "      <td>R. Collier, GSAF</td>\n",
       "      <td>2018.06.25-Wolfe.pdf</td>\n",
       "      <td>http://sharkattackfile.net/spreadsheets/pdf_di...</td>\n",
       "      <td>http://sharkattackfile.net/spreadsheets/pdf_di...</td>\n",
       "      <td>2018.06.25</td>\n",
       "      <td>2018.06.25</td>\n",
       "      <td>6303.0</td>\n",
       "      <td>NaN</td>\n",
       "      <td>NaN</td>\n",
       "    </tr>\n",
       "    <tr>\n",
       "      <th>1</th>\n",
       "      <td>2018.06.18</td>\n",
       "      <td>18-Jun-2018</td>\n",
       "      <td>2018.0</td>\n",
       "      <td>Unprovoked</td>\n",
       "      <td>USA</td>\n",
       "      <td>Georgia</td>\n",
       "      <td>St. Simon Island, Glynn County</td>\n",
       "      <td>Standing</td>\n",
       "      <td>Adyson McNeely</td>\n",
       "      <td>F</td>\n",
       "      <td>11</td>\n",
       "      <td>Minor injury to left thigh</td>\n",
       "      <td>N</td>\n",
       "      <td>14h00  -15h00</td>\n",
       "      <td>NaN</td>\n",
       "      <td>K.McMurray, TrackingSharks.com</td>\n",
       "      <td>2018.06.18-McNeely.pdf</td>\n",
       "      <td>http://sharkattackfile.net/spreadsheets/pdf_di...</td>\n",
       "      <td>http://sharkattackfile.net/spreadsheets/pdf_di...</td>\n",
       "      <td>2018.06.18</td>\n",
       "      <td>2018.06.18</td>\n",
       "      <td>6302.0</td>\n",
       "      <td>NaN</td>\n",
       "      <td>NaN</td>\n",
       "    </tr>\n",
       "    <tr>\n",
       "      <th>2</th>\n",
       "      <td>2018.06.09</td>\n",
       "      <td>09-Jun-2018</td>\n",
       "      <td>2018.0</td>\n",
       "      <td>Invalid</td>\n",
       "      <td>USA</td>\n",
       "      <td>Hawaii</td>\n",
       "      <td>Habush, Oahu</td>\n",
       "      <td>Surfing</td>\n",
       "      <td>John Denges</td>\n",
       "      <td>M</td>\n",
       "      <td>48</td>\n",
       "      <td>Injury to left lower leg from surfboard skeg</td>\n",
       "      <td>N</td>\n",
       "      <td>07h45</td>\n",
       "      <td>NaN</td>\n",
       "      <td>K.McMurray, TrackingSharks.com</td>\n",
       "      <td>2018.06.09-Denges.pdf</td>\n",
       "      <td>http://sharkattackfile.net/spreadsheets/pdf_di...</td>\n",
       "      <td>http://sharkattackfile.net/spreadsheets/pdf_di...</td>\n",
       "      <td>2018.06.09</td>\n",
       "      <td>2018.06.09</td>\n",
       "      <td>6301.0</td>\n",
       "      <td>NaN</td>\n",
       "      <td>NaN</td>\n",
       "    </tr>\n",
       "    <tr>\n",
       "      <th>3</th>\n",
       "      <td>2018.06.08</td>\n",
       "      <td>08-Jun-2018</td>\n",
       "      <td>2018.0</td>\n",
       "      <td>Unprovoked</td>\n",
       "      <td>AUSTRALIA</td>\n",
       "      <td>New South Wales</td>\n",
       "      <td>Arrawarra Headland</td>\n",
       "      <td>Surfing</td>\n",
       "      <td>male</td>\n",
       "      <td>M</td>\n",
       "      <td>NaN</td>\n",
       "      <td>Minor injury to lower leg</td>\n",
       "      <td>N</td>\n",
       "      <td>NaN</td>\n",
       "      <td>2 m shark</td>\n",
       "      <td>B. Myatt, GSAF</td>\n",
       "      <td>2018.06.08-Arrawarra.pdf</td>\n",
       "      <td>http://sharkattackfile.net/spreadsheets/pdf_di...</td>\n",
       "      <td>http://sharkattackfile.net/spreadsheets/pdf_di...</td>\n",
       "      <td>2018.06.08</td>\n",
       "      <td>2018.06.08</td>\n",
       "      <td>6300.0</td>\n",
       "      <td>NaN</td>\n",
       "      <td>NaN</td>\n",
       "    </tr>\n",
       "    <tr>\n",
       "      <th>4</th>\n",
       "      <td>2018.06.04</td>\n",
       "      <td>04-Jun-2018</td>\n",
       "      <td>2018.0</td>\n",
       "      <td>Provoked</td>\n",
       "      <td>MEXICO</td>\n",
       "      <td>Colima</td>\n",
       "      <td>La Ticla</td>\n",
       "      <td>Free diving</td>\n",
       "      <td>Gustavo Ramos</td>\n",
       "      <td>M</td>\n",
       "      <td>NaN</td>\n",
       "      <td>Lacerations to leg &amp; hand shark PROVOKED INCIDENT</td>\n",
       "      <td>N</td>\n",
       "      <td>NaN</td>\n",
       "      <td>Tiger shark, 3m</td>\n",
       "      <td>A .Kipper</td>\n",
       "      <td>2018.06.04-Ramos.pdf</td>\n",
       "      <td>http://sharkattackfile.net/spreadsheets/pdf_di...</td>\n",
       "      <td>http://sharkattackfile.net/spreadsheets/pdf_di...</td>\n",
       "      <td>2018.06.04</td>\n",
       "      <td>2018.06.04</td>\n",
       "      <td>6299.0</td>\n",
       "      <td>NaN</td>\n",
       "      <td>NaN</td>\n",
       "    </tr>\n",
       "    <tr>\n",
       "      <th>...</th>\n",
       "      <td>...</td>\n",
       "      <td>...</td>\n",
       "      <td>...</td>\n",
       "      <td>...</td>\n",
       "      <td>...</td>\n",
       "      <td>...</td>\n",
       "      <td>...</td>\n",
       "      <td>...</td>\n",
       "      <td>...</td>\n",
       "      <td>...</td>\n",
       "      <td>...</td>\n",
       "      <td>...</td>\n",
       "      <td>...</td>\n",
       "      <td>...</td>\n",
       "      <td>...</td>\n",
       "      <td>...</td>\n",
       "      <td>...</td>\n",
       "      <td>...</td>\n",
       "      <td>...</td>\n",
       "      <td>...</td>\n",
       "      <td>...</td>\n",
       "      <td>...</td>\n",
       "      <td>...</td>\n",
       "      <td>...</td>\n",
       "    </tr>\n",
       "    <tr>\n",
       "      <th>25718</th>\n",
       "      <td>NaN</td>\n",
       "      <td>NaN</td>\n",
       "      <td>NaN</td>\n",
       "      <td>NaN</td>\n",
       "      <td>NaN</td>\n",
       "      <td>NaN</td>\n",
       "      <td>NaN</td>\n",
       "      <td>NaN</td>\n",
       "      <td>NaN</td>\n",
       "      <td>NaN</td>\n",
       "      <td>NaN</td>\n",
       "      <td>NaN</td>\n",
       "      <td>NaN</td>\n",
       "      <td>NaN</td>\n",
       "      <td>NaN</td>\n",
       "      <td>NaN</td>\n",
       "      <td>NaN</td>\n",
       "      <td>NaN</td>\n",
       "      <td>NaN</td>\n",
       "      <td>NaN</td>\n",
       "      <td>NaN</td>\n",
       "      <td>NaN</td>\n",
       "      <td>NaN</td>\n",
       "      <td>NaN</td>\n",
       "    </tr>\n",
       "    <tr>\n",
       "      <th>25719</th>\n",
       "      <td>NaN</td>\n",
       "      <td>NaN</td>\n",
       "      <td>NaN</td>\n",
       "      <td>NaN</td>\n",
       "      <td>NaN</td>\n",
       "      <td>NaN</td>\n",
       "      <td>NaN</td>\n",
       "      <td>NaN</td>\n",
       "      <td>NaN</td>\n",
       "      <td>NaN</td>\n",
       "      <td>NaN</td>\n",
       "      <td>NaN</td>\n",
       "      <td>NaN</td>\n",
       "      <td>NaN</td>\n",
       "      <td>NaN</td>\n",
       "      <td>NaN</td>\n",
       "      <td>NaN</td>\n",
       "      <td>NaN</td>\n",
       "      <td>NaN</td>\n",
       "      <td>NaN</td>\n",
       "      <td>NaN</td>\n",
       "      <td>NaN</td>\n",
       "      <td>NaN</td>\n",
       "      <td>NaN</td>\n",
       "    </tr>\n",
       "    <tr>\n",
       "      <th>25720</th>\n",
       "      <td>NaN</td>\n",
       "      <td>NaN</td>\n",
       "      <td>NaN</td>\n",
       "      <td>NaN</td>\n",
       "      <td>NaN</td>\n",
       "      <td>NaN</td>\n",
       "      <td>NaN</td>\n",
       "      <td>NaN</td>\n",
       "      <td>NaN</td>\n",
       "      <td>NaN</td>\n",
       "      <td>NaN</td>\n",
       "      <td>NaN</td>\n",
       "      <td>NaN</td>\n",
       "      <td>NaN</td>\n",
       "      <td>NaN</td>\n",
       "      <td>NaN</td>\n",
       "      <td>NaN</td>\n",
       "      <td>NaN</td>\n",
       "      <td>NaN</td>\n",
       "      <td>NaN</td>\n",
       "      <td>NaN</td>\n",
       "      <td>NaN</td>\n",
       "      <td>NaN</td>\n",
       "      <td>NaN</td>\n",
       "    </tr>\n",
       "    <tr>\n",
       "      <th>25721</th>\n",
       "      <td>NaN</td>\n",
       "      <td>NaN</td>\n",
       "      <td>NaN</td>\n",
       "      <td>NaN</td>\n",
       "      <td>NaN</td>\n",
       "      <td>NaN</td>\n",
       "      <td>NaN</td>\n",
       "      <td>NaN</td>\n",
       "      <td>NaN</td>\n",
       "      <td>NaN</td>\n",
       "      <td>NaN</td>\n",
       "      <td>NaN</td>\n",
       "      <td>NaN</td>\n",
       "      <td>NaN</td>\n",
       "      <td>NaN</td>\n",
       "      <td>NaN</td>\n",
       "      <td>NaN</td>\n",
       "      <td>NaN</td>\n",
       "      <td>NaN</td>\n",
       "      <td>NaN</td>\n",
       "      <td>NaN</td>\n",
       "      <td>NaN</td>\n",
       "      <td>NaN</td>\n",
       "      <td>NaN</td>\n",
       "    </tr>\n",
       "    <tr>\n",
       "      <th>25722</th>\n",
       "      <td>xx</td>\n",
       "      <td>NaN</td>\n",
       "      <td>NaN</td>\n",
       "      <td>NaN</td>\n",
       "      <td>NaN</td>\n",
       "      <td>NaN</td>\n",
       "      <td>NaN</td>\n",
       "      <td>NaN</td>\n",
       "      <td>NaN</td>\n",
       "      <td>NaN</td>\n",
       "      <td>NaN</td>\n",
       "      <td>NaN</td>\n",
       "      <td>NaN</td>\n",
       "      <td>NaN</td>\n",
       "      <td>NaN</td>\n",
       "      <td>NaN</td>\n",
       "      <td>NaN</td>\n",
       "      <td>NaN</td>\n",
       "      <td>NaN</td>\n",
       "      <td>NaN</td>\n",
       "      <td>NaN</td>\n",
       "      <td>NaN</td>\n",
       "      <td>NaN</td>\n",
       "      <td>NaN</td>\n",
       "    </tr>\n",
       "  </tbody>\n",
       "</table>\n",
       "<p>25723 rows × 24 columns</p>\n",
       "</div>"
      ],
      "text/plain": [
       "      case_number         date    year        type    country  \\\n",
       "0      2018.06.25  25-Jun-2018  2018.0     Boating        USA   \n",
       "1      2018.06.18  18-Jun-2018  2018.0  Unprovoked        USA   \n",
       "2      2018.06.09  09-Jun-2018  2018.0     Invalid        USA   \n",
       "3      2018.06.08  08-Jun-2018  2018.0  Unprovoked  AUSTRALIA   \n",
       "4      2018.06.04  04-Jun-2018  2018.0    Provoked     MEXICO   \n",
       "...           ...          ...     ...         ...        ...   \n",
       "25718         NaN          NaN     NaN         NaN        NaN   \n",
       "25719         NaN          NaN     NaN         NaN        NaN   \n",
       "25720         NaN          NaN     NaN         NaN        NaN   \n",
       "25721         NaN          NaN     NaN         NaN        NaN   \n",
       "25722          xx          NaN     NaN         NaN        NaN   \n",
       "\n",
       "                  area                        location     activity  \\\n",
       "0           California     Oceanside, San Diego County     Paddling   \n",
       "1              Georgia  St. Simon Island, Glynn County     Standing   \n",
       "2               Hawaii                    Habush, Oahu      Surfing   \n",
       "3      New South Wales              Arrawarra Headland      Surfing   \n",
       "4               Colima                        La Ticla  Free diving   \n",
       "...                ...                             ...          ...   \n",
       "25718              NaN                             NaN          NaN   \n",
       "25719              NaN                             NaN          NaN   \n",
       "25720              NaN                             NaN          NaN   \n",
       "25721              NaN                             NaN          NaN   \n",
       "25722              NaN                             NaN          NaN   \n",
       "\n",
       "                  name  sex  age  \\\n",
       "0          Julie Wolfe    F   57   \n",
       "1      Adyson McNeely     F   11   \n",
       "2          John Denges    M   48   \n",
       "3                 male    M  NaN   \n",
       "4       Gustavo Ramos     M  NaN   \n",
       "...                ...  ...  ...   \n",
       "25718              NaN  NaN  NaN   \n",
       "25719              NaN  NaN  NaN   \n",
       "25720              NaN  NaN  NaN   \n",
       "25721              NaN  NaN  NaN   \n",
       "25722              NaN  NaN  NaN   \n",
       "\n",
       "                                                  injury fatal           time  \\\n",
       "0      No injury to occupant, outrigger canoe and pad...     N          18h00   \n",
       "1                             Minor injury to left thigh     N  14h00  -15h00   \n",
       "2           Injury to left lower leg from surfboard skeg     N          07h45   \n",
       "3                              Minor injury to lower leg     N            NaN   \n",
       "4      Lacerations to leg & hand shark PROVOKED INCIDENT     N            NaN   \n",
       "...                                                  ...   ...            ...   \n",
       "25718                                                NaN   NaN            NaN   \n",
       "25719                                                NaN   NaN            NaN   \n",
       "25720                                                NaN   NaN            NaN   \n",
       "25721                                                NaN   NaN            NaN   \n",
       "25722                                                NaN   NaN            NaN   \n",
       "\n",
       "               species          investigator_or_source  \\\n",
       "0          White shark                R. Collier, GSAF   \n",
       "1                  NaN  K.McMurray, TrackingSharks.com   \n",
       "2                  NaN  K.McMurray, TrackingSharks.com   \n",
       "3            2 m shark                  B. Myatt, GSAF   \n",
       "4      Tiger shark, 3m                       A .Kipper   \n",
       "...                ...                             ...   \n",
       "25718              NaN                             NaN   \n",
       "25719              NaN                             NaN   \n",
       "25720              NaN                             NaN   \n",
       "25721              NaN                             NaN   \n",
       "25722              NaN                             NaN   \n",
       "\n",
       "                            pdf  \\\n",
       "0          2018.06.25-Wolfe.pdf   \n",
       "1        2018.06.18-McNeely.pdf   \n",
       "2         2018.06.09-Denges.pdf   \n",
       "3      2018.06.08-Arrawarra.pdf   \n",
       "4          2018.06.04-Ramos.pdf   \n",
       "...                         ...   \n",
       "25718                       NaN   \n",
       "25719                       NaN   \n",
       "25720                       NaN   \n",
       "25721                       NaN   \n",
       "25722                       NaN   \n",
       "\n",
       "                                            href_formula  \\\n",
       "0      http://sharkattackfile.net/spreadsheets/pdf_di...   \n",
       "1      http://sharkattackfile.net/spreadsheets/pdf_di...   \n",
       "2      http://sharkattackfile.net/spreadsheets/pdf_di...   \n",
       "3      http://sharkattackfile.net/spreadsheets/pdf_di...   \n",
       "4      http://sharkattackfile.net/spreadsheets/pdf_di...   \n",
       "...                                                  ...   \n",
       "25718                                                NaN   \n",
       "25719                                                NaN   \n",
       "25720                                                NaN   \n",
       "25721                                                NaN   \n",
       "25722                                                NaN   \n",
       "\n",
       "                                                    href case_number_1  \\\n",
       "0      http://sharkattackfile.net/spreadsheets/pdf_di...    2018.06.25   \n",
       "1      http://sharkattackfile.net/spreadsheets/pdf_di...    2018.06.18   \n",
       "2      http://sharkattackfile.net/spreadsheets/pdf_di...    2018.06.09   \n",
       "3      http://sharkattackfile.net/spreadsheets/pdf_di...    2018.06.08   \n",
       "4      http://sharkattackfile.net/spreadsheets/pdf_di...    2018.06.04   \n",
       "...                                                  ...           ...   \n",
       "25718                                                NaN           NaN   \n",
       "25719                                                NaN           NaN   \n",
       "25720                                                NaN           NaN   \n",
       "25721                                                NaN           NaN   \n",
       "25722                                                NaN           NaN   \n",
       "\n",
       "      case_number_2  original_order unnamed_1 unnamed_2  \n",
       "0        2018.06.25          6303.0       NaN       NaN  \n",
       "1        2018.06.18          6302.0       NaN       NaN  \n",
       "2        2018.06.09          6301.0       NaN       NaN  \n",
       "3        2018.06.08          6300.0       NaN       NaN  \n",
       "4        2018.06.04          6299.0       NaN       NaN  \n",
       "...             ...             ...       ...       ...  \n",
       "25718           NaN             NaN       NaN       NaN  \n",
       "25719           NaN             NaN       NaN       NaN  \n",
       "25720           NaN             NaN       NaN       NaN  \n",
       "25721           NaN             NaN       NaN       NaN  \n",
       "25722           NaN             NaN       NaN       NaN  \n",
       "\n",
       "[25723 rows x 24 columns]"
      ]
     },
     "execution_count": 12,
     "metadata": {},
     "output_type": "execute_result"
    }
   ],
   "source": [
    "sharks.columns = new_cols\n",
    "sharks"
   ]
  },
  {
   "cell_type": "markdown",
   "metadata": {},
   "source": [
    "## Step 3: Check for duplicated rows 👥\n",
    "As a first step in actually cleaning, we will check for duplicated rows, as 2x rows exactly the same won't be useful for our analysis"
   ]
  },
  {
   "cell_type": "code",
   "execution_count": 13,
   "metadata": {},
   "outputs": [
    {
     "data": {
      "text/plain": [
       "True     19411\n",
       "False     6312\n",
       "Name: count, dtype: int64"
      ]
     },
     "execution_count": 13,
     "metadata": {},
     "output_type": "execute_result"
    }
   ],
   "source": [
    "sharks.duplicated().value_counts()"
   ]
  },
  {
   "cell_type": "code",
   "execution_count": 14,
   "metadata": {},
   "outputs": [
    {
     "data": {
      "text/plain": [
       "False    6312\n",
       "Name: count, dtype: int64"
      ]
     },
     "execution_count": 14,
     "metadata": {},
     "output_type": "execute_result"
    }
   ],
   "source": [
    "# We have over 19,000 duplicated rows, let's drop them\n",
    "sharks.drop_duplicates(inplace=True)\n",
    "sharks.duplicated().value_counts()"
   ]
  },
  {
   "cell_type": "markdown",
   "metadata": {},
   "source": [
    "## Step 4: Null cleaning \n",
    "#### Now that we have no duplicated rows, we will check how many null values we have in our dataframe\n",
    "#### I believe visualizing the nulls with a heatmap can be very useful to understand the big picture of nulls present in any dataframe"
   ]
  },
  {
   "cell_type": "code",
   "execution_count": 15,
   "metadata": {},
   "outputs": [],
   "source": [
    "# My function to plot nulls\n",
    "\n",
    "def plot_null_heatmap(df):\n",
    "    # Create a heatmap of null values in the DataFrame\n",
    "    plt.figure(figsize=(10, 6))\n",
    "    sns.heatmap(df.isnull(), cbar=False, cmap='viridis')\n",
    "    plt.title(\"Null Values Heatmap\")\n",
    "    plt.show()"
   ]
  },
  {
   "cell_type": "code",
   "execution_count": 16,
   "metadata": {},
   "outputs": [
    {
     "data": {
      "image/png": "[encoded data removed]",
      "text/plain": [
       "<Figure size 1000x600 with 1 Axes>"
      ]
     },
     "metadata": {},
     "output_type": "display_data"
    }
   ],
   "source": [
    "plot_null_heatmap(sharks)"
   ]
  },
  {
   "cell_type": "code",
   "execution_count": 17,
   "metadata": {},
   "outputs": [
    {
     "data": {
      "image/png": "[encoded data removed]",
      "text/plain": [
       "<Figure size 1000x600 with 1 Axes>"
      ]
     },
     "metadata": {},
     "output_type": "display_data"
    }
   ],
   "source": [
    "# Calculate the number of null values in each column\n",
    "null_counts = sharks.isnull().sum()\n",
    "\n",
    "# Sort the columns by the number of null values (ascending)\n",
    "null_counts = null_counts.sort_values()\n",
    "\n",
    "# Create a bar chart\n",
    "plt.figure(figsize=(10, 6))\n",
    "null_counts.plot(kind='bar')\n",
    "plt.title('Columns with Most Null Values')\n",
    "plt.xlabel('Columns')\n",
    "plt.ylabel('Number of Null Values')\n",
    "plt.show()\n"
   ]
  },
  {
   "cell_type": "markdown",
   "metadata": {},
   "source": [
    "#### 2 columns instantly stand out, let's move on!"
   ]
  },
  {
   "cell_type": "code",
   "execution_count": 18,
   "metadata": {},
   "outputs": [
    {
     "name": "stdout",
     "output_type": "stream",
     "text": [
      "<class 'pandas.core.frame.DataFrame'>\n",
      "Index: 6312 entries, 0 to 25722\n",
      "Data columns (total 24 columns):\n",
      " #   Column                  Non-Null Count  Dtype  \n",
      "---  ------                  --------------  -----  \n",
      " 0   case_number             6310 non-null   object \n",
      " 1   date                    6302 non-null   object \n",
      " 2   year                    6300 non-null   float64\n",
      " 3   type                    6298 non-null   object \n",
      " 4   country                 6252 non-null   object \n",
      " 5   area                    5847 non-null   object \n",
      " 6   location                5762 non-null   object \n",
      " 7   activity                5758 non-null   object \n",
      " 8   name                    6092 non-null   object \n",
      " 9   sex                     5737 non-null   object \n",
      " 10  age                     3471 non-null   object \n",
      " 11  injury                  6274 non-null   object \n",
      " 12  fatal                   5763 non-null   object \n",
      " 13  time                    2948 non-null   object \n",
      " 14  species                 3464 non-null   object \n",
      " 15  investigator_or_source  6285 non-null   object \n",
      " 16  pdf                     6302 non-null   object \n",
      " 17  href_formula            6301 non-null   object \n",
      " 18  href                    6302 non-null   object \n",
      " 19  case_number_1           6302 non-null   object \n",
      " 20  case_number_2           6302 non-null   object \n",
      " 21  original_order          6309 non-null   float64\n",
      " 22  unnamed_1               1 non-null      object \n",
      " 23  unnamed_2               2 non-null      object \n",
      "dtypes: float64(2), object(22)\n",
      "memory usage: 9.4 MB\n"
     ]
    }
   ],
   "source": [
    "sharks.info(memory_usage='deep')"
   ]
  },
  {
   "cell_type": "markdown",
   "metadata": {},
   "source": [
    "#### Let's find out the columns with null values!"
   ]
  },
  {
   "cell_type": "code",
   "execution_count": 19,
   "metadata": {},
   "outputs": [
    {
     "data": {
      "text/plain": [
       "unnamed_1                 6311\n",
       "unnamed_2                 6310\n",
       "time                      3364\n",
       "species                   2848\n",
       "age                       2841\n",
       "sex                        575\n",
       "activity                   554\n",
       "location                   550\n",
       "fatal                      549\n",
       "area                       465\n",
       "name                       220\n",
       "country                     60\n",
       "injury                      38\n",
       "investigator_or_source      27\n",
       "type                        14\n",
       "year                        12\n",
       "href_formula                11\n",
       "date                        10\n",
       "pdf                         10\n",
       "href                        10\n",
       "case_number_1               10\n",
       "case_number_2               10\n",
       "original_order               3\n",
       "case_number                  2\n",
       "dtype: int64"
      ]
     },
     "execution_count": 19,
     "metadata": {},
     "output_type": "execute_result"
    }
   ],
   "source": [
    "# columnas con valores nulos\n",
    "\n",
    "nan_cols = sharks.isna().sum()\n",
    "\n",
    "nan_cols[nan_cols>0]\n",
    "\n",
    "nan_cols.sort_values(ascending=False)"
   ]
  },
  {
   "cell_type": "markdown",
   "metadata": {},
   "source": [
    "#### There is a huge amount of nulls in the `unnamed_22` and `unname_23`\n",
    "- Let's first address these 2 columns, we know we have `6312` rows after removing duplicated rows, so they are practically empty.\n",
    "- According to the restrictions, we need to have 23 cols at the end of our analysis, so lets drop both and later fix it!"
   ]
  },
  {
   "cell_type": "code",
   "execution_count": 20,
   "metadata": {},
   "outputs": [],
   "source": [
    "sharks.drop(columns=['unnamed_1', 'unnamed_2'], axis=1, inplace=True)"
   ]
  },
  {
   "cell_type": "code",
   "execution_count": 21,
   "metadata": {},
   "outputs": [
    {
     "data": {
      "text/plain": [
       "time        3364\n",
       "species     2848\n",
       "age         2841\n",
       "sex          575\n",
       "activity     554\n",
       "location     550\n",
       "fatal        549\n",
       "area         465\n",
       "name         220\n",
       "country       60\n",
       "dtype: int64"
      ]
     },
     "execution_count": 21,
     "metadata": {},
     "output_type": "execute_result"
    }
   ],
   "source": [
    "sharks.isna().sum().sort_values(ascending=False).head(10)"
   ]
  },
  {
   "cell_type": "markdown",
   "metadata": {},
   "source": [
    "The next column with a significant amount of `null` values is Time with `3364`"
   ]
  },
  {
   "cell_type": "code",
   "execution_count": 22,
   "metadata": {},
   "outputs": [
    {
     "data": {
      "text/plain": [
       "time\n",
       "Afternoon      187\n",
       "11h00          128\n",
       "Morning        121\n",
       "12h00          109\n",
       "15h00          108\n",
       "              ... \n",
       "14h37            1\n",
       "10h07            1\n",
       "13h53            1\n",
       "13h23            1\n",
       "19h00-20h00      1\n",
       "Name: count, Length: 366, dtype: int64"
      ]
     },
     "execution_count": 22,
     "metadata": {},
     "output_type": "execute_result"
    }
   ],
   "source": [
    "sharks[sharks[\"time\"].notnull()].time.value_counts()"
   ]
  },
  {
   "cell_type": "markdown",
   "metadata": {},
   "source": [
    "As it name implies, simply the time at which the attack took place, let`s find the proportion of nulls of the column"
   ]
  },
  {
   "cell_type": "code",
   "execution_count": 23,
   "metadata": {},
   "outputs": [
    {
     "data": {
      "text/plain": [
       "(6312, 22)"
      ]
     },
     "execution_count": 23,
     "metadata": {},
     "output_type": "execute_result"
    }
   ],
   "source": [
    "sharks.shape"
   ]
  },
  {
   "cell_type": "code",
   "execution_count": 24,
   "metadata": {},
   "outputs": [
    {
     "data": {
      "text/plain": [
       "time\n",
       "True     0.532953\n",
       "False    0.467047\n",
       "Name: proportion, dtype: float64"
      ]
     },
     "execution_count": 24,
     "metadata": {},
     "output_type": "execute_result"
    }
   ],
   "source": [
    "sharks.time.isna().value_counts(normalize=True)"
   ]
  },
  {
   "cell_type": "markdown",
   "metadata": {},
   "source": [
    "#### `46.7%` of the `Time` column are null values, and we can no longer remove columns, so let's address it this way:\n",
    "- We can remove rows. We have a total of `6312` rows, and we are limited to a minimum of  `2,500`\n",
    "- Let's remove the NaN first, and then try to standarize the `Time` column with more uniform values"
   ]
  },
  {
   "cell_type": "code",
   "execution_count": 25,
   "metadata": {},
   "outputs": [],
   "source": [
    "sharks['time'].fillna('unknown', inplace=True)\n",
    "shape = sharks.shape"
   ]
  },
  {
   "cell_type": "markdown",
   "metadata": {},
   "source": [
    "#### As for the rest of the values in this columns, let's try to standarize it into three categories: `morning`, `afternoon`, `evening` and `night`"
   ]
  },
  {
   "cell_type": "code",
   "execution_count": 26,
   "metadata": {},
   "outputs": [],
   "source": [
    "def standardize_time(df):\n",
    "    # Define a regular expression pattern to match time values like \"10h30\"\n",
    "    time_pattern = r'(\\d{1,2})[h:](\\d{2})'\n",
    "\n",
    "    def categorize_time(time_str):\n",
    "\n",
    "        if \"noon\" in time_str.lower() or \"lunch\" in time_str.lower() or \"afternon\" in time_str.lower() or \"1500\" in time_str.lower():\n",
    "            return \"afternoon\"       \n",
    "        if \"morning\" in time_str.lower() or \"midday\" in time_str.lower() or \"dawn\" in time_str.lower() or \"daybreak\" in time_str.lower() or \"1300\" in time_str.lower() or \"0830\" in time_str.lower():\n",
    "            return \"morning\"\n",
    "        if \"night\" in time_str.lower() or \"dark\" in time_str.lower() or \"0500\" in time_str.lower():\n",
    "            return \"night\"\n",
    "        if \"dusk\" in time_str.lower() or \"sunset\" in time_str.lower() or \"evening\" in time_str.lower() or \"sundown\" in time_str.lower():\n",
    "            return \"evening\"\n",
    "        \n",
    "        else:\n",
    "            pass\n",
    "\n",
    "\n",
    "        # Extract hour and minute using the regular expression pattern\n",
    "        match = re.search(time_pattern, time_str)\n",
    "        if match:\n",
    "            hour = int(match.group(1))\n",
    "            minute = int(match.group(2))\n",
    "\n",
    "            if 0 <= hour < 6:\n",
    "                return 'night'\n",
    "            elif 6 <= hour < 12:\n",
    "                return 'morning'\n",
    "            elif 12 <= hour < 18:\n",
    "                return 'afternoon'\n",
    "            else:\n",
    "                return 'evening'\n",
    "        else:\n",
    "            # If the string does not match the pattern, return it as is\n",
    "            return \"unknown\"\n",
    "\n",
    "    # Apply the categorize_time function to the \"Time\" column\n",
    "    df['time'] = df['time'].apply(categorize_time)\n",
    "\n",
    "    return df\n",
    "\n"
   ]
  },
  {
   "cell_type": "code",
   "execution_count": 27,
   "metadata": {},
   "outputs": [
    {
     "data": {
      "text/plain": [
       "time\n",
       "unknown      3410\n",
       "afternoon    1558\n",
       "morning       933\n",
       "evening       294\n",
       "night         117\n",
       "Name: count, dtype: int64"
      ]
     },
     "execution_count": 27,
     "metadata": {},
     "output_type": "execute_result"
    }
   ],
   "source": [
    "standardize_time(sharks)\n",
    "sharks.time.value_counts()"
   ]
  },
  {
   "cell_type": "markdown",
   "metadata": {},
   "source": [
    "#### Let's check out the next null column we can fix."
   ]
  },
  {
   "cell_type": "code",
   "execution_count": 28,
   "metadata": {},
   "outputs": [
    {
     "data": {
      "text/plain": [
       "Text(0, 0.5, 'Number of Null Values')"
      ]
     },
     "execution_count": 28,
     "metadata": {},
     "output_type": "execute_result"
    },
    {
     "data": {
      "image/png": "[encoded data removed]",
      "text/plain": [
       "<Figure size 1000x600 with 1 Axes>"
      ]
     },
     "metadata": {},
     "output_type": "display_data"
    }
   ],
   "source": [
    "# Calculate the number of null values in each column\n",
    "null_counts = sharks.isnull().sum()\n",
    "\n",
    "# Sort the columns by the number of null values (ascending)\n",
    "null_counts = null_counts.sort_values()\n",
    "\n",
    "# Create a bar chart\n",
    "plt.figure(figsize=(10, 6))\n",
    "null_counts.plot(kind='bar')\n",
    "plt.title('Columns with Most Null Values')\n",
    "plt.xlabel('Columns')\n",
    "plt.ylabel('Number of Null Values')\n"
   ]
  },
  {
   "cell_type": "code",
   "execution_count": 29,
   "metadata": {},
   "outputs": [
    {
     "data": {
      "text/plain": [
       "0               White shark\n",
       "1                       NaN\n",
       "2                       NaN\n",
       "3                 2 m shark\n",
       "4           Tiger shark, 3m\n",
       "5                       NaN\n",
       "6               Tiger shark\n",
       "7           Lemon shark, 3'\n",
       "8            Bull shark, 6'\n",
       "9                       NaN\n",
       "10          Grey reef shark\n",
       "11                      NaN\n",
       "12                      NaN\n",
       "13         Invalid incident\n",
       "14    Tawny nurse shark, 2m\n",
       "Name: species, dtype: object"
      ]
     },
     "execution_count": 29,
     "metadata": {},
     "output_type": "execute_result"
    }
   ],
   "source": [
    "sharks.species.head(15)"
   ]
  },
  {
   "cell_type": "markdown",
   "metadata": {},
   "source": [
    "#### Truly bad column without any sort of norm, we will fill nulls with unknown for now and send an email to the Data Engineer"
   ]
  },
  {
   "cell_type": "code",
   "execution_count": 30,
   "metadata": {},
   "outputs": [
    {
     "data": {
      "text/plain": [
       "species\n",
       "False    6312\n",
       "Name: count, dtype: int64"
      ]
     },
     "execution_count": 30,
     "metadata": {},
     "output_type": "execute_result"
    }
   ],
   "source": [
    "sharks.species.fillna('unknown', inplace=True)\n",
    "sharks[\"species\"].isnull().value_counts()"
   ]
  },
  {
   "cell_type": "code",
   "execution_count": 31,
   "metadata": {},
   "outputs": [
    {
     "data": {
      "text/plain": [
       "age                       2841\n",
       "sex                        575\n",
       "activity                   554\n",
       "location                   550\n",
       "fatal                      549\n",
       "area                       465\n",
       "name                       220\n",
       "country                     60\n",
       "injury                      38\n",
       "investigator_or_source      27\n",
       "type                        14\n",
       "year                        12\n",
       "href_formula                11\n",
       "href                        10\n",
       "date                        10\n",
       "case_number_2               10\n",
       "case_number_1               10\n",
       "pdf                         10\n",
       "original_order               3\n",
       "case_number                  2\n",
       "species                      0\n",
       "time                         0\n",
       "dtype: int64"
      ]
     },
     "execution_count": 31,
     "metadata": {},
     "output_type": "execute_result"
    }
   ],
   "source": [
    "sharks.isnull().sum().sort_values(ascending=False)"
   ]
  },
  {
   "cell_type": "markdown",
   "metadata": {},
   "source": [
    "### We have several null columns left, where we are left without much clue on how to fill the missing values, so let's fill them with unknowns"
   ]
  },
  {
   "cell_type": "code",
   "execution_count": 32,
   "metadata": {},
   "outputs": [
    {
     "name": "stderr",
     "output_type": "stream",
     "text": [
      "/var/folders/f2/ty6sgcw911g2_3vqhhq561vm0000gn/T/ipykernel_23570/2168755920.py:1: FutureWarning: Setting an item of incompatible dtype is deprecated and will raise in a future error of pandas. Value 'unknown' has dtype incompatible with float64, please explicitly cast to a compatible dtype first.\n",
      "  sharks.fillna('unknown', inplace=True)\n"
     ]
    }
   ],
   "source": [
    "sharks.fillna('unknown', inplace=True)"
   ]
  },
  {
   "cell_type": "code",
   "execution_count": 33,
   "metadata": {},
   "outputs": [
    {
     "data": {
      "text/plain": [
       "False"
      ]
     },
     "execution_count": 33,
     "metadata": {},
     "output_type": "execute_result"
    }
   ],
   "source": [
    "sharks.isnull().sum().any()"
   ]
  },
  {
   "cell_type": "code",
   "execution_count": 34,
   "metadata": {},
   "outputs": [
    {
     "data": {
      "text/plain": [
       "(6312, 22)"
      ]
     },
     "execution_count": 34,
     "metadata": {},
     "output_type": "execute_result"
    }
   ],
   "source": [
    "sharks.shape"
   ]
  },
  {
   "cell_type": "markdown",
   "metadata": {},
   "source": [
    "#### No more null values in our Dataframe. We had to fill several `NaN` values with `unknown` but we are on our way to cleaning all the dataset. Now we can start with Incorrect values."
   ]
  },
  {
   "cell_type": "markdown",
   "metadata": {},
   "source": [
    "## Step 5: Normalizing and Standardizing Values ✅"
   ]
  },
  {
   "cell_type": "markdown",
   "metadata": {},
   "source": [
    "#### Let's take a look into the columns from left to right, keeping in mind we still can remove `3812` rows"
   ]
  },
  {
   "cell_type": "code",
   "execution_count": 35,
   "metadata": {},
   "outputs": [
    {
     "data": {
      "text/html": [
       "<div>\n",
       "<style scoped>\n",
       "    .dataframe tbody tr th:only-of-type {\n",
       "        vertical-align: middle;\n",
       "    }\n",
       "\n",
       "    .dataframe tbody tr th {\n",
       "        vertical-align: top;\n",
       "    }\n",
       "\n",
       "    .dataframe thead th {\n",
       "        text-align: right;\n",
       "    }\n",
       "</style>\n",
       "<table border=\"1\" class=\"dataframe\">\n",
       "  <thead>\n",
       "    <tr style=\"text-align: right;\">\n",
       "      <th></th>\n",
       "      <th>case_number</th>\n",
       "      <th>date</th>\n",
       "      <th>year</th>\n",
       "      <th>type</th>\n",
       "      <th>country</th>\n",
       "      <th>area</th>\n",
       "      <th>location</th>\n",
       "      <th>activity</th>\n",
       "      <th>name</th>\n",
       "      <th>sex</th>\n",
       "      <th>age</th>\n",
       "      <th>injury</th>\n",
       "      <th>fatal</th>\n",
       "      <th>time</th>\n",
       "      <th>species</th>\n",
       "      <th>investigator_or_source</th>\n",
       "      <th>pdf</th>\n",
       "      <th>href_formula</th>\n",
       "      <th>href</th>\n",
       "      <th>case_number_1</th>\n",
       "      <th>case_number_2</th>\n",
       "      <th>original_order</th>\n",
       "    </tr>\n",
       "  </thead>\n",
       "  <tbody>\n",
       "    <tr>\n",
       "      <th>0</th>\n",
       "      <td>2018.06.25</td>\n",
       "      <td>25-Jun-2018</td>\n",
       "      <td>2018.0</td>\n",
       "      <td>Boating</td>\n",
       "      <td>USA</td>\n",
       "      <td>California</td>\n",
       "      <td>Oceanside, San Diego County</td>\n",
       "      <td>Paddling</td>\n",
       "      <td>Julie Wolfe</td>\n",
       "      <td>F</td>\n",
       "      <td>57</td>\n",
       "      <td>No injury to occupant, outrigger canoe and pad...</td>\n",
       "      <td>N</td>\n",
       "      <td>evening</td>\n",
       "      <td>White shark</td>\n",
       "      <td>R. Collier, GSAF</td>\n",
       "      <td>2018.06.25-Wolfe.pdf</td>\n",
       "      <td>http://sharkattackfile.net/spreadsheets/pdf_di...</td>\n",
       "      <td>http://sharkattackfile.net/spreadsheets/pdf_di...</td>\n",
       "      <td>2018.06.25</td>\n",
       "      <td>2018.06.25</td>\n",
       "      <td>6303.0</td>\n",
       "    </tr>\n",
       "    <tr>\n",
       "      <th>1</th>\n",
       "      <td>2018.06.18</td>\n",
       "      <td>18-Jun-2018</td>\n",
       "      <td>2018.0</td>\n",
       "      <td>Unprovoked</td>\n",
       "      <td>USA</td>\n",
       "      <td>Georgia</td>\n",
       "      <td>St. Simon Island, Glynn County</td>\n",
       "      <td>Standing</td>\n",
       "      <td>Adyson McNeely</td>\n",
       "      <td>F</td>\n",
       "      <td>11</td>\n",
       "      <td>Minor injury to left thigh</td>\n",
       "      <td>N</td>\n",
       "      <td>afternoon</td>\n",
       "      <td>unknown</td>\n",
       "      <td>K.McMurray, TrackingSharks.com</td>\n",
       "      <td>2018.06.18-McNeely.pdf</td>\n",
       "      <td>http://sharkattackfile.net/spreadsheets/pdf_di...</td>\n",
       "      <td>http://sharkattackfile.net/spreadsheets/pdf_di...</td>\n",
       "      <td>2018.06.18</td>\n",
       "      <td>2018.06.18</td>\n",
       "      <td>6302.0</td>\n",
       "    </tr>\n",
       "    <tr>\n",
       "      <th>2</th>\n",
       "      <td>2018.06.09</td>\n",
       "      <td>09-Jun-2018</td>\n",
       "      <td>2018.0</td>\n",
       "      <td>Invalid</td>\n",
       "      <td>USA</td>\n",
       "      <td>Hawaii</td>\n",
       "      <td>Habush, Oahu</td>\n",
       "      <td>Surfing</td>\n",
       "      <td>John Denges</td>\n",
       "      <td>M</td>\n",
       "      <td>48</td>\n",
       "      <td>Injury to left lower leg from surfboard skeg</td>\n",
       "      <td>N</td>\n",
       "      <td>morning</td>\n",
       "      <td>unknown</td>\n",
       "      <td>K.McMurray, TrackingSharks.com</td>\n",
       "      <td>2018.06.09-Denges.pdf</td>\n",
       "      <td>http://sharkattackfile.net/spreadsheets/pdf_di...</td>\n",
       "      <td>http://sharkattackfile.net/spreadsheets/pdf_di...</td>\n",
       "      <td>2018.06.09</td>\n",
       "      <td>2018.06.09</td>\n",
       "      <td>6301.0</td>\n",
       "    </tr>\n",
       "    <tr>\n",
       "      <th>3</th>\n",
       "      <td>2018.06.08</td>\n",
       "      <td>08-Jun-2018</td>\n",
       "      <td>2018.0</td>\n",
       "      <td>Unprovoked</td>\n",
       "      <td>AUSTRALIA</td>\n",
       "      <td>New South Wales</td>\n",
       "      <td>Arrawarra Headland</td>\n",
       "      <td>Surfing</td>\n",
       "      <td>male</td>\n",
       "      <td>M</td>\n",
       "      <td>unknown</td>\n",
       "      <td>Minor injury to lower leg</td>\n",
       "      <td>N</td>\n",
       "      <td>unknown</td>\n",
       "      <td>2 m shark</td>\n",
       "      <td>B. Myatt, GSAF</td>\n",
       "      <td>2018.06.08-Arrawarra.pdf</td>\n",
       "      <td>http://sharkattackfile.net/spreadsheets/pdf_di...</td>\n",
       "      <td>http://sharkattackfile.net/spreadsheets/pdf_di...</td>\n",
       "      <td>2018.06.08</td>\n",
       "      <td>2018.06.08</td>\n",
       "      <td>6300.0</td>\n",
       "    </tr>\n",
       "    <tr>\n",
       "      <th>4</th>\n",
       "      <td>2018.06.04</td>\n",
       "      <td>04-Jun-2018</td>\n",
       "      <td>2018.0</td>\n",
       "      <td>Provoked</td>\n",
       "      <td>MEXICO</td>\n",
       "      <td>Colima</td>\n",
       "      <td>La Ticla</td>\n",
       "      <td>Free diving</td>\n",
       "      <td>Gustavo Ramos</td>\n",
       "      <td>M</td>\n",
       "      <td>unknown</td>\n",
       "      <td>Lacerations to leg &amp; hand shark PROVOKED INCIDENT</td>\n",
       "      <td>N</td>\n",
       "      <td>unknown</td>\n",
       "      <td>Tiger shark, 3m</td>\n",
       "      <td>A .Kipper</td>\n",
       "      <td>2018.06.04-Ramos.pdf</td>\n",
       "      <td>http://sharkattackfile.net/spreadsheets/pdf_di...</td>\n",
       "      <td>http://sharkattackfile.net/spreadsheets/pdf_di...</td>\n",
       "      <td>2018.06.04</td>\n",
       "      <td>2018.06.04</td>\n",
       "      <td>6299.0</td>\n",
       "    </tr>\n",
       "  </tbody>\n",
       "</table>\n",
       "</div>"
      ],
      "text/plain": [
       "  case_number         date    year        type    country             area  \\\n",
       "0  2018.06.25  25-Jun-2018  2018.0     Boating        USA       California   \n",
       "1  2018.06.18  18-Jun-2018  2018.0  Unprovoked        USA          Georgia   \n",
       "2  2018.06.09  09-Jun-2018  2018.0     Invalid        USA           Hawaii   \n",
       "3  2018.06.08  08-Jun-2018  2018.0  Unprovoked  AUSTRALIA  New South Wales   \n",
       "4  2018.06.04  04-Jun-2018  2018.0    Provoked     MEXICO           Colima   \n",
       "\n",
       "                         location     activity             name sex      age  \\\n",
       "0     Oceanside, San Diego County     Paddling      Julie Wolfe   F       57   \n",
       "1  St. Simon Island, Glynn County     Standing  Adyson McNeely    F       11   \n",
       "2                    Habush, Oahu      Surfing      John Denges   M       48   \n",
       "3              Arrawarra Headland      Surfing             male   M  unknown   \n",
       "4                        La Ticla  Free diving   Gustavo Ramos    M  unknown   \n",
       "\n",
       "                                              injury fatal       time  \\\n",
       "0  No injury to occupant, outrigger canoe and pad...     N    evening   \n",
       "1                         Minor injury to left thigh     N  afternoon   \n",
       "2       Injury to left lower leg from surfboard skeg     N    morning   \n",
       "3                          Minor injury to lower leg     N    unknown   \n",
       "4  Lacerations to leg & hand shark PROVOKED INCIDENT     N    unknown   \n",
       "\n",
       "           species          investigator_or_source                       pdf  \\\n",
       "0      White shark                R. Collier, GSAF      2018.06.25-Wolfe.pdf   \n",
       "1          unknown  K.McMurray, TrackingSharks.com    2018.06.18-McNeely.pdf   \n",
       "2          unknown  K.McMurray, TrackingSharks.com     2018.06.09-Denges.pdf   \n",
       "3        2 m shark                  B. Myatt, GSAF  2018.06.08-Arrawarra.pdf   \n",
       "4  Tiger shark, 3m                       A .Kipper      2018.06.04-Ramos.pdf   \n",
       "\n",
       "                                        href_formula  \\\n",
       "0  http://sharkattackfile.net/spreadsheets/pdf_di...   \n",
       "1  http://sharkattackfile.net/spreadsheets/pdf_di...   \n",
       "2  http://sharkattackfile.net/spreadsheets/pdf_di...   \n",
       "3  http://sharkattackfile.net/spreadsheets/pdf_di...   \n",
       "4  http://sharkattackfile.net/spreadsheets/pdf_di...   \n",
       "\n",
       "                                                href case_number_1  \\\n",
       "0  http://sharkattackfile.net/spreadsheets/pdf_di...    2018.06.25   \n",
       "1  http://sharkattackfile.net/spreadsheets/pdf_di...    2018.06.18   \n",
       "2  http://sharkattackfile.net/spreadsheets/pdf_di...    2018.06.09   \n",
       "3  http://sharkattackfile.net/spreadsheets/pdf_di...    2018.06.08   \n",
       "4  http://sharkattackfile.net/spreadsheets/pdf_di...    2018.06.04   \n",
       "\n",
       "  case_number_2 original_order  \n",
       "0    2018.06.25         6303.0  \n",
       "1    2018.06.18         6302.0  \n",
       "2    2018.06.09         6301.0  \n",
       "3    2018.06.08         6300.0  \n",
       "4    2018.06.04         6299.0  "
      ]
     },
     "execution_count": 35,
     "metadata": {},
     "output_type": "execute_result"
    }
   ],
   "source": [
    "sharks.head()"
   ]
  },
  {
   "cell_type": "markdown",
   "metadata": {},
   "source": [
    "### Normalizing `year` column"
   ]
  },
  {
   "cell_type": "code",
   "execution_count": 36,
   "metadata": {},
   "outputs": [
    {
     "data": {
      "text/plain": [
       "0         2018.0\n",
       "1         2018.0\n",
       "2         2018.0\n",
       "3         2018.0\n",
       "4         2018.0\n",
       "          ...   \n",
       "6307     unknown\n",
       "6308     unknown\n",
       "6309     unknown\n",
       "8702     unknown\n",
       "25722    unknown\n",
       "Name: year, Length: 6312, dtype: object"
      ]
     },
     "execution_count": 36,
     "metadata": {},
     "output_type": "execute_result"
    }
   ],
   "source": [
    "sharks.year"
   ]
  },
  {
   "cell_type": "markdown",
   "metadata": {},
   "source": [
    "#### Let's remove rows that have more than 5 `unknown` values"
   ]
  },
  {
   "cell_type": "code",
   "execution_count": 37,
   "metadata": {},
   "outputs": [
    {
     "data": {
      "text/plain": [
       "(6167, 22)"
      ]
     },
     "execution_count": 37,
     "metadata": {},
     "output_type": "execute_result"
    }
   ],
   "source": [
    "count_unknown = (sharks == 'unknown').sum(axis=1)\n",
    "\n",
    "# Filter rows with no more than 5 'unknown' values\n",
    "sharks = sharks[count_unknown <= 5]\n",
    "\n",
    "sharks.shape"
   ]
  },
  {
   "cell_type": "markdown",
   "metadata": {},
   "source": [
    "`145` rows dropped, rows with 5 or more unkowns are not worth and not that many to affect our analysis"
   ]
  },
  {
   "cell_type": "code",
   "execution_count": 38,
   "metadata": {},
   "outputs": [
    {
     "data": {
      "text/plain": [
       "array([2018.0, 2017.0, 'unknown', 2016.0, 2015.0, 2014.0, 2013.0, 2012.0,\n",
       "       2011.0, 2010.0, 2009.0, 2008.0, 2007.0, 2006.0, 2005.0, 2004.0,\n",
       "       2003.0, 2002.0, 2001.0, 2000.0, 1999.0, 1998.0, 1997.0, 1996.0,\n",
       "       1995.0, 1984.0, 1994.0, 1993.0, 1992.0, 1991.0, 1990.0, 1989.0,\n",
       "       1969.0, 1988.0, 1987.0, 1986.0, 1985.0, 1983.0, 1982.0, 1981.0,\n",
       "       1980.0, 1979.0, 1978.0, 1977.0, 1976.0, 1975.0, 1974.0, 1973.0,\n",
       "       1972.0, 1971.0, 1970.0, 1968.0, 1967.0, 1966.0, 1965.0, 1964.0,\n",
       "       1963.0, 1962.0, 1961.0, 1960.0, 1959.0, 1958.0, 1957.0, 1956.0,\n",
       "       1955.0, 1954.0, 1953.0, 1952.0, 1951.0, 1950.0, 1949.0, 1948.0,\n",
       "       1848.0, 1947.0, 1946.0, 1945.0, 1944.0, 1943.0, 1942.0, 1941.0,\n",
       "       1940.0, 1939.0, 1938.0, 1937.0, 1936.0, 1935.0, 1934.0, 1933.0,\n",
       "       1932.0, 1931.0, 1930.0, 1929.0, 1928.0, 1927.0, 1926.0, 1925.0,\n",
       "       1924.0, 1923.0, 1922.0, 1921.0, 1920.0, 1919.0, 1918.0, 1917.0,\n",
       "       1916.0, 1915.0, 1914.0, 1913.0, 1912.0, 1911.0, 1910.0, 1909.0,\n",
       "       1908.0, 1907.0, 1906.0, 1905.0, 1904.0, 1903.0, 1902.0, 1901.0,\n",
       "       1900.0, 1899.0, 1898.0, 1897.0, 1896.0, 1895.0, 1894.0, 1893.0,\n",
       "       1892.0, 1891.0, 1890.0, 1889.0, 1888.0, 1887.0, 1886.0, 1885.0,\n",
       "       1884.0, 1883.0, 1882.0, 1881.0, 1880.0, 1879.0, 1878.0, 1877.0,\n",
       "       1876.0, 1875.0, 1874.0, 1873.0, 1872.0, 1871.0, 1870.0, 1869.0,\n",
       "       1868.0, 1867.0, 1866.0, 1865.0, 1864.0, 1863.0, 1862.0, 1861.0,\n",
       "       1860.0, 1859.0, 1858.0, 1857.0, 1856.0, 1855.0, 1853.0, 1852.0,\n",
       "       1851.0, 1850.0, 1849.0, 1847.0, 1846.0, 1845.0, 1844.0, 1842.0,\n",
       "       1841.0, 1840.0, 1839.0, 1837.0, 1835.0, 1834.0, 1832.0, 1831.0,\n",
       "       1830.0, 1829.0, 1828.0, 1827.0, 1826.0, 1825.0, 1822.0, 1819.0,\n",
       "       1818.0, 1817.0, 1816.0, 1815.0, 1812.0, 1810.0, 1808.0, 1807.0,\n",
       "       1805.0, 1804.0, 1803.0, 1801.0, 1800.0, 1792.0, 1791.0, 1788.0,\n",
       "       1787.0, 1786.0, 1785.0, 1784.0, 1783.0, 1780.0, 1779.0, 1776.0,\n",
       "       1771.0, 1767.0, 1764.0, 1758.0, 1753.0, 1751.0, 1749.0, 1755.0,\n",
       "       1748.0, 1742.0, 1738.0, 1721.0, 1703.0, 1700.0, 1642.0, 1637.0,\n",
       "       1595.0, 1580.0, 1554.0, 1543.0, 77.0, 5.0, 0.0], dtype=object)"
      ]
     },
     "execution_count": 38,
     "metadata": {},
     "output_type": "execute_result"
    }
   ],
   "source": [
    "sharks.year.unique()"
   ]
  },
  {
   "cell_type": "code",
   "execution_count": 39,
   "metadata": {},
   "outputs": [
    {
     "name": "stdout",
     "output_type": "stream",
     "text": [
      "unknown\n",
      "unknown\n"
     ]
    }
   ],
   "source": [
    "for value in sharks['year']:\n",
    "    if isinstance(value, str):\n",
    "        print(value)"
   ]
  },
  {
   "cell_type": "code",
   "execution_count": 40,
   "metadata": {},
   "outputs": [],
   "source": [
    "# Use boolean indexing to select rows that don't have 'unknown' in the 'Year' column\n",
    "sharks = sharks[sharks['year'] != 'unknown']"
   ]
  },
  {
   "cell_type": "code",
   "execution_count": 41,
   "metadata": {},
   "outputs": [
    {
     "data": {
      "text/plain": [
       "0       2018\n",
       "1       2018\n",
       "2       2018\n",
       "3       2018\n",
       "4       2018\n",
       "        ... \n",
       "6297       0\n",
       "6298       0\n",
       "6299       0\n",
       "6300       0\n",
       "6301       0\n",
       "Name: year, Length: 6165, dtype: int64"
      ]
     },
     "execution_count": 41,
     "metadata": {},
     "output_type": "execute_result"
    }
   ],
   "source": [
    "sharks.year.astype(int)"
   ]
  },
  {
   "cell_type": "code",
   "execution_count": 42,
   "metadata": {},
   "outputs": [
    {
     "data": {
      "text/plain": [
       "128"
      ]
     },
     "execution_count": 42,
     "metadata": {},
     "output_type": "execute_result"
    }
   ],
   "source": [
    "len(sharks[sharks['year'] < 1700])"
   ]
  },
  {
   "cell_type": "markdown",
   "metadata": {},
   "source": [
    "#### We will remove the `128` rows with attacks in years earlier than `1700`"
   ]
  },
  {
   "cell_type": "code",
   "execution_count": 43,
   "metadata": {},
   "outputs": [
    {
     "data": {
      "text/plain": [
       "(6034, 22)"
      ]
     },
     "execution_count": 43,
     "metadata": {},
     "output_type": "execute_result"
    }
   ],
   "source": [
    "sharks = sharks[sharks['year'] > 1700]\n",
    "sharks.shape"
   ]
  },
  {
   "cell_type": "code",
   "execution_count": 44,
   "metadata": {},
   "outputs": [],
   "source": [
    "sharks['year'] = sharks['year'].astype(int)\n"
   ]
  },
  {
   "cell_type": "code",
   "execution_count": 45,
   "metadata": {},
   "outputs": [
    {
     "name": "stdout",
     "output_type": "stream",
     "text": [
      "<class 'pandas.core.series.Series'>\n",
      "Index: 6034 entries, 0 to 6160\n",
      "Series name: year\n",
      "Non-Null Count  Dtype\n",
      "--------------  -----\n",
      "6034 non-null   int64\n",
      "dtypes: int64(1)\n",
      "memory usage: 94.3 KB\n"
     ]
    }
   ],
   "source": [
    "sharks.year.info()"
   ]
  },
  {
   "cell_type": "markdown",
   "metadata": {},
   "source": [
    "### Normalizing `type` column"
   ]
  },
  {
   "cell_type": "code",
   "execution_count": 46,
   "metadata": {},
   "outputs": [
    {
     "data": {
      "text/plain": [
       "0       Boating\n",
       "1    Unprovoked\n",
       "2       Invalid\n",
       "3    Unprovoked\n",
       "4      Provoked\n",
       "Name: type, dtype: object"
      ]
     },
     "execution_count": 46,
     "metadata": {},
     "output_type": "execute_result"
    }
   ],
   "source": [
    "sharks.type.head()"
   ]
  },
  {
   "cell_type": "markdown",
   "metadata": {},
   "source": [
    "#### Let's check the number of `unknown` values in `Type column`"
   ]
  },
  {
   "cell_type": "code",
   "execution_count": 47,
   "metadata": {},
   "outputs": [
    {
     "data": {
      "text/plain": [
       "3"
      ]
     },
     "execution_count": 47,
     "metadata": {},
     "output_type": "execute_result"
    }
   ],
   "source": [
    "len(sharks[sharks['type']=='unknown'])"
   ]
  },
  {
   "cell_type": "code",
   "execution_count": 48,
   "metadata": {},
   "outputs": [],
   "source": [
    "sharks = sharks[sharks['type'] != 'unknown']"
   ]
  },
  {
   "cell_type": "code",
   "execution_count": 49,
   "metadata": {},
   "outputs": [
    {
     "data": {
      "text/plain": [
       "array(['Boating', 'Unprovoked', 'Invalid', 'Provoked', 'Questionable',\n",
       "       'Sea Disaster', 'Boat', 'Boatomg'], dtype=object)"
      ]
     },
     "execution_count": 49,
     "metadata": {},
     "output_type": "execute_result"
    }
   ],
   "source": [
    "sharks.type.unique()"
   ]
  },
  {
   "cell_type": "code",
   "execution_count": 50,
   "metadata": {},
   "outputs": [
    {
     "data": {
      "text/plain": [
       "type\n",
       "Unprovoked      4419\n",
       "Provoked         564\n",
       "Invalid          504\n",
       "Boat             330\n",
       "Sea Disaster     212\n",
       "Questionable       2\n",
       "Name: count, dtype: int64"
      ]
     },
     "execution_count": 50,
     "metadata": {},
     "output_type": "execute_result"
    }
   ],
   "source": [
    "sharks['type'] = sharks['type'].str.replace('.*Boat.*', 'Boat', regex=True)\n",
    "sharks.type.value_counts()"
   ]
  },
  {
   "cell_type": "markdown",
   "metadata": {},
   "source": [
    "Seeing there is only 2 `Questionable` let's just drop them"
   ]
  },
  {
   "cell_type": "code",
   "execution_count": 51,
   "metadata": {},
   "outputs": [
    {
     "data": {
      "text/plain": [
       "type\n",
       "Unprovoked      4419\n",
       "Provoked         564\n",
       "Invalid          504\n",
       "Boat             330\n",
       "Sea Disaster     212\n",
       "Name: count, dtype: int64"
      ]
     },
     "execution_count": 51,
     "metadata": {},
     "output_type": "execute_result"
    }
   ],
   "source": [
    "sharks = sharks[sharks.type != 'Questionable']\n",
    "sharks.type.value_counts()"
   ]
  },
  {
   "cell_type": "markdown",
   "metadata": {},
   "source": [
    "### Normalizing `country` column"
   ]
  },
  {
   "cell_type": "code",
   "execution_count": 52,
   "metadata": {},
   "outputs": [
    {
     "data": {
      "text/plain": [
       "(23, 22)"
      ]
     },
     "execution_count": 52,
     "metadata": {},
     "output_type": "execute_result"
    }
   ],
   "source": [
    "sharks[sharks['country']==\"unknown\"].shape"
   ]
  },
  {
   "cell_type": "markdown",
   "metadata": {},
   "source": [
    "#### Let's proceed and remove the 23 rows with `unknown` countries"
   ]
  },
  {
   "cell_type": "code",
   "execution_count": 53,
   "metadata": {},
   "outputs": [],
   "source": [
    "sharks = sharks[sharks['country']!=\"unknown\"]"
   ]
  },
  {
   "cell_type": "code",
   "execution_count": 54,
   "metadata": {},
   "outputs": [
    {
     "data": {
      "text/plain": [
       "array(['USA', 'AUSTRALIA', 'MEXICO', 'BRAZIL', 'ENGLAND', 'SOUTH AFRICA',\n",
       "       'THAILAND', 'COSTA RICA', 'MALDIVES', 'BAHAMAS', 'NEW CALEDONIA',\n",
       "       'ECUADOR', 'MALAYSIA', 'LIBYA', 'CUBA', 'MAURITIUS', 'NEW ZEALAND',\n",
       "       'SPAIN', 'SOLOMON ISLANDS', 'JAPAN', 'EGYPT',\n",
       "       'ST HELENA, British overseas territory', 'COMOROS', 'REUNION',\n",
       "       'FRENCH POLYNESIA', 'UNITED KINGDOM', 'UNITED ARAB EMIRATES',\n",
       "       'PHILIPPINES', 'INDONESIA', 'CHINA', 'COLUMBIA', 'CAPE VERDE',\n",
       "       'Fiji', 'DOMINICAN REPUBLIC', 'CAYMAN ISLANDS', 'ARUBA',\n",
       "       'MOZAMBIQUE', 'FIJI', 'PUERTO RICO', 'ITALY', 'ATLANTIC OCEAN',\n",
       "       'GREECE', 'ST. MARTIN', 'FRANCE', 'PAPUA NEW GUINEA',\n",
       "       'TRINIDAD & TOBAGO', 'KIRIBATI', 'ISRAEL', 'DIEGO GARCIA',\n",
       "       'TAIWAN', 'JAMAICA', 'PALESTINIAN TERRITORIES', 'GUAM',\n",
       "       'SEYCHELLES', 'BELIZE', 'NIGERIA', 'TONGA', 'SCOTLAND', 'CANADA',\n",
       "       'CROATIA', 'SAUDI ARABIA', 'CHILE', 'ANTIGUA', 'KENYA', 'RUSSIA',\n",
       "       'TURKS & CAICOS', 'UNITED ARAB EMIRATES (UAE)', 'SAMOA', 'AZORES',\n",
       "       'SOUTH KOREA', 'MALTA', 'VIETNAM', 'MADAGASCAR', 'PANAMA',\n",
       "       'SOMALIA', 'NEVIS', 'BRITISH VIRGIN ISLANDS', 'NORWAY', 'YEMEN',\n",
       "       'GULF OF ADEN', 'Sierra Leone', 'ST. MAARTIN', 'GRAND CAYMAN',\n",
       "       'Seychelles', 'LIBERIA', 'VANUATU', 'MEXICO ', 'HONDURAS',\n",
       "       'VENEZUELA', 'SRI LANKA', ' TONGA', 'URUGUAY', 'INDIA',\n",
       "       'MICRONESIA', 'CARIBBEAN SEA', 'OKINAWA', 'TANZANIA',\n",
       "       'MARSHALL ISLANDS', 'SENEGAL', 'EGYPT / ISRAEL',\n",
       "       'NORTHERN ARABIAN SEA', 'HONG KONG', 'EL SALVADOR', 'ANGOLA',\n",
       "       'BERMUDA', 'MONTENEGRO', 'IRAN', 'TUNISIA', 'NAMIBIA',\n",
       "       'NORTH ATLANTIC OCEAN', 'PORTUGAL', 'SOUTH CHINA SEA', 'PALAU',\n",
       "       'WESTERN SAMOA', 'PACIFIC OCEAN ', 'BRITISH ISLES', 'GRENADA',\n",
       "       'IRAQ', 'TURKEY', 'SINGAPORE', 'NEW BRITAIN', 'SUDAN',\n",
       "       'JOHNSTON ISLAND', 'SOUTH PACIFIC OCEAN', 'NEW GUINEA', 'RED SEA',\n",
       "       'NORTH PACIFIC OCEAN', 'FEDERATED STATES OF MICRONESIA',\n",
       "       'MID ATLANTIC OCEAN', 'ADMIRALTY ISLANDS', 'BRITISH WEST INDIES',\n",
       "       'SOUTH ATLANTIC OCEAN', 'PERSIAN GULF', 'RED SEA / INDIAN OCEAN',\n",
       "       'PACIFIC OCEAN', 'NORTH SEA', 'NICARAGUA ', 'MALDIVE ISLANDS',\n",
       "       'AMERICAN SAMOA', 'ANDAMAN / NICOBAR ISLANDAS', 'GABON', 'MAYOTTE',\n",
       "       'NORTH ATLANTIC OCEAN ', 'THE BALKANS', 'SUDAN?', 'ARGENTINA',\n",
       "       'MARTINIQUE', 'INDIAN OCEAN', 'GUATEMALA', 'NETHERLANDS ANTILLES',\n",
       "       'NORTHERN MARIANA ISLANDS', 'IRAN / IRAQ', 'JAVA', 'SIERRA LEONE',\n",
       "       ' PHILIPPINES', 'NICARAGUA', 'CENTRAL PACIFIC',\n",
       "       'SOLOMON ISLANDS / VANUATU', 'SOUTHWEST PACIFIC OCEAN',\n",
       "       'BAY OF BENGAL', 'MID-PACIFC OCEAN', 'SLOVENIA', 'CURACAO',\n",
       "       'ICELAND', 'ITALY / CROATIA', 'BARBADOS', 'MONACO', 'GUYANA',\n",
       "       'HAITI', 'SAN DOMINGO', 'IRELAND', 'KUWAIT', 'YEMEN ',\n",
       "       'REUNION ISLAND', 'FALKLAND ISLANDS', 'CRETE', 'CYPRUS', 'EGYPT ',\n",
       "       'WEST INDIES', 'BURMA', 'LEBANON', 'BRITISH NEW GUINEA', 'OCEAN',\n",
       "       'GEORGIA', 'SYRIA', 'TUVALU', 'INDIAN OCEAN?', 'GUINEA',\n",
       "       'ANDAMAN ISLANDS', 'CEYLON', 'EQUATORIAL GUINEA / CAMEROON',\n",
       "       'COOK ISLANDS', 'TOBAGO', 'PERU', 'AFRICA', 'ALGERIA',\n",
       "       'Coast of AFRICA', 'TASMAN SEA', 'GHANA', 'MEDITERRANEAN SEA',\n",
       "       'SWEDEN'], dtype=object)"
      ]
     },
     "execution_count": 54,
     "metadata": {},
     "output_type": "execute_result"
    }
   ],
   "source": [
    "sharks.country.unique()"
   ]
  },
  {
   "cell_type": "code",
   "execution_count": 55,
   "metadata": {},
   "outputs": [
    {
     "data": {
      "text/html": [
       "<div>\n",
       "<style scoped>\n",
       "    .dataframe tbody tr th:only-of-type {\n",
       "        vertical-align: middle;\n",
       "    }\n",
       "\n",
       "    .dataframe tbody tr th {\n",
       "        vertical-align: top;\n",
       "    }\n",
       "\n",
       "    .dataframe thead th {\n",
       "        text-align: right;\n",
       "    }\n",
       "</style>\n",
       "<table border=\"1\" class=\"dataframe\">\n",
       "  <thead>\n",
       "    <tr style=\"text-align: right;\">\n",
       "      <th></th>\n",
       "      <th>case_number</th>\n",
       "      <th>date</th>\n",
       "      <th>year</th>\n",
       "      <th>type</th>\n",
       "      <th>country</th>\n",
       "      <th>area</th>\n",
       "      <th>location</th>\n",
       "      <th>activity</th>\n",
       "      <th>name</th>\n",
       "      <th>sex</th>\n",
       "      <th>age</th>\n",
       "      <th>injury</th>\n",
       "      <th>fatal</th>\n",
       "      <th>time</th>\n",
       "      <th>species</th>\n",
       "      <th>investigator_or_source</th>\n",
       "      <th>pdf</th>\n",
       "      <th>href_formula</th>\n",
       "      <th>href</th>\n",
       "      <th>case_number_1</th>\n",
       "      <th>case_number_2</th>\n",
       "      <th>original_order</th>\n",
       "    </tr>\n",
       "  </thead>\n",
       "  <tbody>\n",
       "    <tr>\n",
       "      <th>4345</th>\n",
       "      <td>1954.04.00</td>\n",
       "      <td>Apr-1954</td>\n",
       "      <td>1954</td>\n",
       "      <td>Provoked</td>\n",
       "      <td>SUDAN?</td>\n",
       "      <td>Red Sea</td>\n",
       "      <td>Southern part</td>\n",
       "      <td>Spearfishing</td>\n",
       "      <td>Jean Foucher-Createau</td>\n",
       "      <td>M</td>\n",
       "      <td>unknown</td>\n",
       "      <td>Speared small shark, shark bit his thigh and/o...</td>\n",
       "      <td>N</td>\n",
       "      <td>unknown</td>\n",
       "      <td>unknown</td>\n",
       "      <td>V.M. Coppleson (1962), p.254; H.D. Baldridge, ...</td>\n",
       "      <td>1954.04.00-Foucher-Creteau.pdf</td>\n",
       "      <td>http://sharkattackfile.net/spreadsheets/pdf_di...</td>\n",
       "      <td>http://sharkattackfile.net/spreadsheets/pdf_di...</td>\n",
       "      <td>1954.04.00</td>\n",
       "      <td>1954.04.00</td>\n",
       "      <td>1958.0</td>\n",
       "    </tr>\n",
       "    <tr>\n",
       "      <th>5894</th>\n",
       "      <td>1872.11.30.R</td>\n",
       "      <td>Reported 30-Nov-1872</td>\n",
       "      <td>1872</td>\n",
       "      <td>Unprovoked</td>\n",
       "      <td>INDIAN OCEAN?</td>\n",
       "      <td>unknown</td>\n",
       "      <td>unknown</td>\n",
       "      <td>Swimming to avoid capture</td>\n",
       "      <td>Malay pirates</td>\n",
       "      <td>M</td>\n",
       "      <td>unknown</td>\n",
       "      <td>FATAL</td>\n",
       "      <td>Y</td>\n",
       "      <td>unknown</td>\n",
       "      <td>unknown</td>\n",
       "      <td>The Mercury, 11/230/1872</td>\n",
       "      <td>1872.11.30.R-MalayPirates.pdf</td>\n",
       "      <td>http://sharkattackfile.net/spreadsheets/pdf_di...</td>\n",
       "      <td>http://sharkattackfile.net/spreadsheets/pdf_di...</td>\n",
       "      <td>1872.11.30.R</td>\n",
       "      <td>1872.11.30.R</td>\n",
       "      <td>409.0</td>\n",
       "    </tr>\n",
       "  </tbody>\n",
       "</table>\n",
       "</div>"
      ],
      "text/plain": [
       "       case_number                  date  year        type        country  \\\n",
       "4345    1954.04.00              Apr-1954  1954    Provoked         SUDAN?   \n",
       "5894  1872.11.30.R  Reported 30-Nov-1872  1872  Unprovoked  INDIAN OCEAN?   \n",
       "\n",
       "         area        location                   activity  \\\n",
       "4345  Red Sea  Southern part                Spearfishing   \n",
       "5894  unknown         unknown  Swimming to avoid capture   \n",
       "\n",
       "                       name sex      age  \\\n",
       "4345  Jean Foucher-Createau   M  unknown   \n",
       "5894          Malay pirates   M  unknown   \n",
       "\n",
       "                                                 injury fatal     time  \\\n",
       "4345  Speared small shark, shark bit his thigh and/o...     N  unknown   \n",
       "5894                                              FATAL     Y  unknown   \n",
       "\n",
       "      species                             investigator_or_source  \\\n",
       "4345  unknown  V.M. Coppleson (1962), p.254; H.D. Baldridge, ...   \n",
       "5894  unknown                           The Mercury, 11/230/1872   \n",
       "\n",
       "                                 pdf  \\\n",
       "4345  1954.04.00-Foucher-Creteau.pdf   \n",
       "5894   1872.11.30.R-MalayPirates.pdf   \n",
       "\n",
       "                                           href_formula  \\\n",
       "4345  http://sharkattackfile.net/spreadsheets/pdf_di...   \n",
       "5894  http://sharkattackfile.net/spreadsheets/pdf_di...   \n",
       "\n",
       "                                                   href case_number_1  \\\n",
       "4345  http://sharkattackfile.net/spreadsheets/pdf_di...    1954.04.00   \n",
       "5894  http://sharkattackfile.net/spreadsheets/pdf_di...  1872.11.30.R   \n",
       "\n",
       "     case_number_2 original_order  \n",
       "4345    1954.04.00         1958.0  \n",
       "5894  1872.11.30.R          409.0  "
      ]
     },
     "execution_count": 55,
     "metadata": {},
     "output_type": "execute_result"
    }
   ],
   "source": [
    "sharks[sharks['country'].str.contains('\\?')]"
   ]
  },
  {
   "cell_type": "markdown",
   "metadata": {},
   "source": [
    "Let's remove the '?' from these 2 rows"
   ]
  },
  {
   "cell_type": "code",
   "execution_count": 56,
   "metadata": {},
   "outputs": [],
   "source": [
    "sharks['country'] = sharks['country'].str.replace('?', '')"
   ]
  },
  {
   "cell_type": "markdown",
   "metadata": {},
   "source": [
    "### Normalizing `activity` column"
   ]
  },
  {
   "cell_type": "markdown",
   "metadata": {},
   "source": [
    "We will use regex to join values that share the same keywords and reduce a little bit the amount of activities `1453`"
   ]
  },
  {
   "cell_type": "code",
   "execution_count": 57,
   "metadata": {},
   "outputs": [
    {
     "data": {
      "text/plain": [
       "activity\n",
       "Surfing                           965\n",
       "Swimming                          845\n",
       "unknown                           441\n",
       "Fishing                           421\n",
       "Spearfishing                      330\n",
       "Bathing                           155\n",
       "Wading                            145\n",
       "Diving                            106\n",
       "Standing                           97\n",
       "Snorkeling                         88\n",
       "Scuba diving                       75\n",
       "Body boarding                      61\n",
       "Body surfing                       49\n",
       "Swimming                           46\n",
       "Kayaking                           33\n",
       "Treading water                     32\n",
       "Fell overboard                     30\n",
       "Boogie boarding                    29\n",
       "Free diving                        27\n",
       "Pearl diving                       27\n",
       "Windsurfing                        19\n",
       "Walking                            17\n",
       "Boogie Boarding                    16\n",
       "Shark fishing                      15\n",
       "Floating                           14\n",
       "Fishing                            13\n",
       "Surf skiing                        12\n",
       "Canoeing                           12\n",
       "Rowing                             12\n",
       "Surf fishing                       12\n",
       "Surf-skiing                        12\n",
       "Fishing for sharks                 11\n",
       "Kayak Fishing                      11\n",
       "Scuba Diving                       10\n",
       "Sailing                             9\n",
       "Freediving                          9\n",
       "Sitting on surfboard                9\n",
       "Paddle boarding                     8\n",
       "Diving for trochus                  8\n",
       "Fell into the water                 8\n",
       "Playing                             7\n",
       "Sponge diving                       7\n",
       "Sea disaster                        7\n",
       "Surf skiing                         7\n",
       "Free diving for abalone             7\n",
       "Diving for abalone                  7\n",
       "Surfing (sitting on his board)      7\n",
       "Boating                             7\n",
       "Floating on his back                6\n",
       "Sea Disaster                        6\n",
       "Name: count, dtype: int64"
      ]
     },
     "execution_count": 57,
     "metadata": {},
     "output_type": "execute_result"
    }
   ],
   "source": [
    "sharks.activity.value_counts().head(50)"
   ]
  },
  {
   "cell_type": "code",
   "execution_count": 58,
   "metadata": {},
   "outputs": [],
   "source": [
    "standardized_values = {\n",
    "    \"Surfing\": \"Surfing\",\n",
    "    \"Swimming\": \"Swimming\",\n",
    "    \"unknown\": \"Unknown\",\n",
    "    \"Fishing\": \"Fishing\",\n",
    "    \"Spearfishing\": \"Spearfishing\",\n",
    "    \"Bathing\": \"Bathing\",\n",
    "    \"Wading\": \"Wading\",\n",
    "    \"Diving\": \"Diving\",\n",
    "    \"Standing\": \"Standing\",\n",
    "    \"Snorkeling\": \"Snorkeling\",\n",
    "    \"Scuba diving\": \"Scuba Diving\",\n",
    "    \"Body boarding\": \"Body Boarding\",\n",
    "    \"Body surfing\": \"Body Surfing\",\n",
    "    \"Swimming \": \"Swimming\", \n",
    "}\n"
   ]
  },
  {
   "cell_type": "code",
   "execution_count": 59,
   "metadata": {},
   "outputs": [
    {
     "name": "stderr",
     "output_type": "stream",
     "text": [
      "WARNING:root:Applied processor reduces input query to empty string, all comparisons will have score 0. [Query: '   ']\n",
      "WARNING:root:Applied processor reduces input query to empty string, all comparisons will have score 0. [Query: '.']\n",
      "WARNING:root:Applied processor reduces input query to empty string, all comparisons will have score 0. [Query: '.']\n",
      "WARNING:root:Applied processor reduces input query to empty string, all comparisons will have score 0. [Query: '.']\n",
      "WARNING:root:Applied processor reduces input query to empty string, all comparisons will have score 0. [Query: ' ']\n"
     ]
    }
   ],
   "source": [
    "sharks['Normalized_Activity'] = sharks['activity'].apply(lambda x: process.extractOne(x, choices=standardized_values.keys())[0])"
   ]
  },
  {
   "cell_type": "code",
   "execution_count": 60,
   "metadata": {},
   "outputs": [
    {
     "data": {
      "text/plain": [
       "Normalized_Activity\n",
       "Surfing          1206\n",
       "Swimming         1100\n",
       "Fishing           873\n",
       "Wading            469\n",
       "unknown           457\n",
       "Diving            452\n",
       "Spearfishing      386\n",
       "Bathing           331\n",
       "Body boarding     222\n",
       "Standing          176\n",
       "Snorkeling        133\n",
       "Scuba diving      125\n",
       "Body surfing       76\n",
       "Name: count, dtype: int64"
      ]
     },
     "execution_count": 60,
     "metadata": {},
     "output_type": "execute_result"
    }
   ],
   "source": [
    "sharks.Normalized_Activity.value_counts()"
   ]
  },
  {
   "cell_type": "code",
   "execution_count": 61,
   "metadata": {},
   "outputs": [],
   "source": [
    "sharks['activity'] = sharks['Normalized_Activity']\n",
    "sharks.drop(columns=['Normalized_Activity'], inplace=True)"
   ]
  },
  {
   "cell_type": "markdown",
   "metadata": {},
   "source": [
    "### Normalizing `name` column"
   ]
  },
  {
   "cell_type": "code",
   "execution_count": 62,
   "metadata": {},
   "outputs": [
    {
     "data": {
      "text/plain": [
       "name\n",
       "male               506\n",
       "unknown            134\n",
       "female              94\n",
       "boy                 20\n",
       "2 males             14\n",
       "boat                13\n",
       "Anonymous           10\n",
       "child               10\n",
       "sailor              10\n",
       "a sailor             8\n",
       "Unidentified         6\n",
       "girl                 6\n",
       "males                6\n",
       "a native             5\n",
       "Unknown              4\n",
       "fisherman            4\n",
       "a soldier            4\n",
       "black male           4\n",
       "2 fishermen          4\n",
       "Zulu male            3\n",
       "Andre Hartman        3\n",
       "Japanese diver       3\n",
       "dinghy               3\n",
       "John Williams        3\n",
       "a pearl diver        3\n",
       " male                3\n",
       "M.C.                 3\n",
       "Arab boy             3\n",
       "2 women              3\n",
       "native boy           3\n",
       "Russian male         3\n",
       "aboriginal male      3\n",
       "Name: count, dtype: int64"
      ]
     },
     "execution_count": 62,
     "metadata": {},
     "output_type": "execute_result"
    }
   ],
   "source": [
    "sharks.name.value_counts()[sharks.name.value_counts() > 2]"
   ]
  },
  {
   "cell_type": "markdown",
   "metadata": {},
   "source": [
    "So many incorrect values, let's normalize this column and clean it!"
   ]
  },
  {
   "cell_type": "code",
   "execution_count": 63,
   "metadata": {},
   "outputs": [],
   "source": [
    "name_counts = sharks['name'].value_counts()\n",
    "repeated_names = name_counts[name_counts > 2].index\n",
    "\n",
    "# Replace repeated names with 'unknown'\n",
    "sharks['name'] = pd.Series(['unknown' if name in repeated_names else name for name in sharks['name']])"
   ]
  },
  {
   "cell_type": "code",
   "execution_count": 64,
   "metadata": {},
   "outputs": [
    {
     "data": {
      "text/plain": [
       "name\n",
       "Paul Ausum                                         1\n",
       "Akira Tuchiya                                      1\n",
       "Qalo Moceyawa                                      1\n",
       "Theodore C. Swienty                                1\n",
       "Gerardo Solis                                      1\n",
       "Clifford Hoogvorst                                 1\n",
       "Dr. D.H. Teas                                      1\n",
       "Fanie Schreuder                                    1\n",
       "Griffith Yamaguchi                                 1\n",
       "David Drummond                                     1\n",
       "Matthew May                                        1\n",
       "boat, occupants, P. Groenwald and others           1\n",
       "Boat: occupants: Matt Mitchell & 2 other people    1\n",
       "Jamie  Harrington                                  1\n",
       "Wallace John McCutcheon                            1\n",
       "Fijian boy                                         1\n",
       "Aaron Muilwyk                                      1\n",
       "August Schulke & Karl Schafer                      1\n",
       "Tod Wallersheim                                    1\n",
       "Adam Johannes Kriel                                1\n",
       "E.S.                                               1\n",
       "Mike Porter                                        1\n",
       "Jon Harding                                        1\n",
       "Kim Lawrence                                       1\n",
       "Sargeant    H.W. Jackson                           1\n",
       "Kevin Thompson                                     1\n",
       "Thomas Henry Durbridge                             1\n",
       "E.H.                                               1\n",
       "Herbert Mills                                      1\n",
       "Edimilson Henrique dos Santos                      1\n",
       "David Nanod, Jr.                                   1\n",
       "Andrew Cribb                                       1\n",
       "Jan Icyda                                          1\n",
       "Cheyne Kehoe                                       1\n",
       "Robert Colby                                       1\n",
       "Greg Anderson                                      1\n",
       "Michael Docherty                                   1\n",
       "Tim Franklin                                       1\n",
       "Fraser Penman                                      1\n",
       "Allan Fripp                                        1\n",
       "Name: count, dtype: int64"
      ]
     },
     "execution_count": 64,
     "metadata": {},
     "output_type": "execute_result"
    }
   ],
   "source": [
    "sharks.name.value_counts().sample(40)"
   ]
  },
  {
   "cell_type": "code",
   "execution_count": 65,
   "metadata": {},
   "outputs": [],
   "source": [
    "sharks.fillna('unknown', inplace=True)"
   ]
  },
  {
   "cell_type": "code",
   "execution_count": 66,
   "metadata": {},
   "outputs": [],
   "source": [
    "# Filter names with 'Name Surname' structure\n",
    "sharks = sharks[sharks['name'].str.match(r'^[A-Z][a-z]*\\s[A-Z][a-z]*$')]"
   ]
  },
  {
   "cell_type": "code",
   "execution_count": 67,
   "metadata": {},
   "outputs": [
    {
     "data": {
      "text/plain": [
       "(2881, 22)"
      ]
     },
     "execution_count": 67,
     "metadata": {},
     "output_type": "execute_result"
    }
   ],
   "source": [
    "sharks.shape"
   ]
  },
  {
   "cell_type": "markdown",
   "metadata": {},
   "source": [
    "### Normalizing `sex` column"
   ]
  },
  {
   "cell_type": "code",
   "execution_count": 68,
   "metadata": {},
   "outputs": [
    {
     "data": {
      "text/plain": [
       "sex\n",
       "M          2337\n",
       "F           325\n",
       "unknown     216\n",
       "M             1\n",
       "lli           1\n",
       ".             1\n",
       "Name: count, dtype: int64"
      ]
     },
     "execution_count": 68,
     "metadata": {},
     "output_type": "execute_result"
    }
   ],
   "source": [
    "sharks.sex.value_counts()"
   ]
  },
  {
   "cell_type": "code",
   "execution_count": 69,
   "metadata": {},
   "outputs": [
    {
     "data": {
      "text/plain": [
       "0       F\n",
       "2       M\n",
       "8       M\n",
       "12      M\n",
       "13      M\n",
       "       ..\n",
       "5981    M\n",
       "5989    M\n",
       "5991    M\n",
       "5995    M\n",
       "6000    M\n",
       "Name: sex, Length: 2881, dtype: object"
      ]
     },
     "execution_count": 69,
     "metadata": {},
     "output_type": "execute_result"
    }
   ],
   "source": [
    "sharks.sex.str.strip()"
   ]
  },
  {
   "cell_type": "code",
   "execution_count": 70,
   "metadata": {},
   "outputs": [
    {
     "data": {
      "text/plain": [
       "sex\n",
       "M          2339\n",
       "F           325\n",
       "unknown     217\n",
       "Name: count, dtype: int64"
      ]
     },
     "execution_count": 70,
     "metadata": {},
     "output_type": "execute_result"
    }
   ],
   "source": [
    "# Lets map the values with a function\n",
    "def map_sex(value):\n",
    "    if value in ['M ', 'N', 'lli', 'M']:\n",
    "        return 'M'\n",
    "    elif value == 'F':\n",
    "        return 'F'\n",
    "    else:\n",
    "        return 'unknown'\n",
    "\n",
    "# Apply the mapping function to the 'sex' column\n",
    "sharks['sex'] = sharks['sex'].apply(map_sex)\n",
    "\n",
    "# Display the value counts\n",
    "sharks['sex'].value_counts()\n",
    "\n"
   ]
  },
  {
   "cell_type": "markdown",
   "metadata": {},
   "source": [
    "### Normalizing `age` column"
   ]
  },
  {
   "cell_type": "code",
   "execution_count": 71,
   "metadata": {},
   "outputs": [
    {
     "data": {
      "text/plain": [
       "age\n",
       "unknown      1030\n",
       "17             83\n",
       "20             81\n",
       "19             74\n",
       "18             72\n",
       "             ... \n",
       "75              1\n",
       "18 months       1\n",
       "23 & 20         1\n",
       " 30             1\n",
       "10 or 12        1\n",
       "Name: count, Length: 119, dtype: int64"
      ]
     },
     "execution_count": 71,
     "metadata": {},
     "output_type": "execute_result"
    }
   ],
   "source": [
    "sharks.age.value_counts()"
   ]
  },
  {
   "cell_type": "code",
   "execution_count": 72,
   "metadata": {},
   "outputs": [
    {
     "data": {
      "text/plain": [
       "age\n",
       "unknown    1030\n",
       "17           83\n",
       "20           82\n",
       "19           74\n",
       "18           72\n",
       "           ... \n",
       "30or36        1\n",
       "75            1\n",
       "33or37        1\n",
       "23&20         1\n",
       "10or12        1\n",
       "Name: count, Length: 116, dtype: int64"
      ]
     },
     "execution_count": 72,
     "metadata": {},
     "output_type": "execute_result"
    }
   ],
   "source": [
    "sharks.age = sharks.age.str.strip()  # Remove leading/trailing spaces\n",
    "sharks.age = sharks.age.str.replace(r'\\s+', '', regex=True)  # Remove random spaces\n",
    "\n",
    "sharks.age.value_counts()"
   ]
  },
  {
   "cell_type": "markdown",
   "metadata": {},
   "source": [
    "This code uses a regular expression `(\\d+)` to find the numeric part of the age, and it checks if the extracted value is between 0 and 90. If the age contains non-numeric characters or is outside the valid range, it sets the age to `'unknown'`\n"
   ]
  },
  {
   "cell_type": "code",
   "execution_count": 73,
   "metadata": {},
   "outputs": [],
   "source": [
    "def extract_age(age_str):\n",
    "    match = re.search(r'\\d+', age_str)\n",
    "    if match:\n",
    "        age = int(match.group())\n",
    "        if 0 <= age <= 90:\n",
    "            return age\n",
    "    return 'unknown'\n",
    "\n",
    "# Apply the extraction function to the 'age' column\n",
    "sharks['age'] = sharks['age'].apply(extract_age)\n"
   ]
  },
  {
   "cell_type": "code",
   "execution_count": 74,
   "metadata": {},
   "outputs": [
    {
     "data": {
      "text/plain": [
       "age\n",
       "unknown    1046\n",
       "20           85\n",
       "17           83\n",
       "18           75\n",
       "19           75\n",
       "           ... \n",
       "86            1\n",
       "3             1\n",
       "74            1\n",
       "72            1\n",
       "2             1\n",
       "Name: count, Length: 77, dtype: int64"
      ]
     },
     "execution_count": 74,
     "metadata": {},
     "output_type": "execute_result"
    }
   ],
   "source": [
    "sharks.age.value_counts()"
   ]
  },
  {
   "cell_type": "markdown",
   "metadata": {},
   "source": [
    "### Normalizing the `species` column"
   ]
  },
  {
   "cell_type": "code",
   "execution_count": 75,
   "metadata": {},
   "outputs": [
    {
     "data": {
      "text/plain": [
       "species\n",
       "unknown                                               1158\n",
       "White shark                                             84\n",
       "Shark involvement prior to death was not confirmed      47\n",
       "Shark involvement not confirmed                         37\n",
       "Tiger shark                                             36\n",
       "                                                      ... \n",
       "Bronze whaler shark, 1.5 m [5']                          1\n",
       "2 m [6.75'] sevengill  shark                             1\n",
       "60 cm [23.6\"] blind or brown shark                       1\n",
       "Possibily a  1.5 to 2 m sandtiger shark                  1\n",
       "68\" shark                                                1\n",
       "Name: count, Length: 911, dtype: int64"
      ]
     },
     "execution_count": 75,
     "metadata": {},
     "output_type": "execute_result"
    }
   ],
   "source": [
    "sharks.species.value_counts()"
   ]
  },
  {
   "cell_type": "code",
   "execution_count": 76,
   "metadata": {},
   "outputs": [],
   "source": [
    "# Lets make a list with the most common species\n",
    "shark_species = {\n",
    "    'bull',\n",
    "    'tiger',\n",
    "    'lemon',\n",
    "    'great hammerhead',\n",
    "    'nurse',\n",
    "    'blacktip',\n",
    "    'sandbar',\n",
    "    'thresher',\n",
    "    'blue',\n",
    "    'mako',\n",
    "    'hammerhead',\n",
    "    'goblin',\n",
    "    'zambesi',\n",
    "    'angel',\n",
    "    'leopard',\n",
    "    'spinner',\n",
    "    'silky',\n",
    "    'white',\n",
    "    'galapagos',\n",
    "    'reef',\n",
    "    'porbeagle',\n",
    "    'whitetip',\n",
    "    'tawny',\n",
    "    'basking',\n",
    "    'cow',\n",
    "    'dusky',\n",
    "    'wobbegong',\n",
    "    'megamouth',\n",
    "    'cookiecutter',\n",
    "    'spurdog',\n",
    "    'lemonsole',\n",
    "    'smoothhound',\n",
    "    'swellshark',\n",
    "    'banded cat',\n",
    "    'gulper',\n",
    "    'sleeper',\n",
    "    'dogfish',\n",
    "    'bramble',\n",
    "    'velvet belly lantern',\n",
    "    'caribbean reef'\n",
    "}"
   ]
  },
  {
   "cell_type": "code",
   "execution_count": 77,
   "metadata": {},
   "outputs": [],
   "source": [
    "def fill_species(x):\n",
    "    x = x.lower()\n",
    "    matched_species = [i for i in shark_species if fuzz.partial_ratio(i.lower(), x) > 80]\n",
    "    return matched_species[0].capitalize() if matched_species else 'Other'\n",
    "\n",
    "# Apply the fill_species function to the 'species' column\n",
    "sharks['species'] = sharks['species'].apply(fill_species)\n"
   ]
  },
  {
   "cell_type": "code",
   "execution_count": 78,
   "metadata": {},
   "outputs": [
    {
     "data": {
      "text/plain": [
       "species\n",
       "Other                   1946\n",
       "White                    344\n",
       "Tiger                    146\n",
       "Bull                      99\n",
       "Blacktip                  56\n",
       "Blue                      39\n",
       "Nurse                     39\n",
       "Hammerhead                30\n",
       "Mako                      29\n",
       "Lemon                     26\n",
       "Wobbegong                 24\n",
       "Zambesi                   21\n",
       "Reef                      18\n",
       "Spinner                   12\n",
       "Dusky                      8\n",
       "Caribbean reef             8\n",
       "Sandbar                    5\n",
       "Basking                    4\n",
       "Thresher                   4\n",
       "Porbeagle                  4\n",
       "Angel                      4\n",
       "Galapagos                  3\n",
       "Velvet belly lantern       3\n",
       "Silky                      2\n",
       "Dogfish                    2\n",
       "Smoothhound                1\n",
       "Goblin                     1\n",
       "Cow                        1\n",
       "Leopard                    1\n",
       "Whitetip                   1\n",
       "Name: count, dtype: int64"
      ]
     },
     "execution_count": 78,
     "metadata": {},
     "output_type": "execute_result"
    }
   ],
   "source": [
    "sharks.species.value_counts()"
   ]
  },
  {
   "cell_type": "markdown",
   "metadata": {},
   "source": [
    "### Normalizing the `date` column"
   ]
  },
  {
   "cell_type": "code",
   "execution_count": 79,
   "metadata": {},
   "outputs": [
    {
     "data": {
      "text/plain": [
       "0     25-Jun-2018\n",
       "2     09-Jun-2018\n",
       "8     26-May-2018\n",
       "12    13-May-2018\n",
       "13    13-May-2018\n",
       "14       May 2018\n",
       "18    28-Apr-2018\n",
       "19    28-Apr-2018\n",
       "21    25-Apr-2018\n",
       "24    22-Apr-2018\n",
       "26    15-Apr-2018\n",
       "27    15-Apr-2018\n",
       "28    15-Apr-2018\n",
       "29    15-Apr-2018\n",
       "32    09-Apr-2018\n",
       "35    31-Mar-2018\n",
       "36    14-Mar-2018\n",
       "37     9-Mar-2018\n",
       "39    24-Feb-2018\n",
       "40    23-Feb-2018\n",
       "Name: date, dtype: object"
      ]
     },
     "execution_count": 79,
     "metadata": {},
     "output_type": "execute_result"
    }
   ],
   "source": [
    "sharks.date.head(20)"
   ]
  },
  {
   "cell_type": "code",
   "execution_count": 80,
   "metadata": {},
   "outputs": [],
   "source": [
    "sharks['date'] = sharks['date'].str.replace('Reported ', '')"
   ]
  },
  {
   "cell_type": "code",
   "execution_count": 81,
   "metadata": {},
   "outputs": [
    {
     "data": {
      "text/html": [
       "<div>\n",
       "<style scoped>\n",
       "    .dataframe tbody tr th:only-of-type {\n",
       "        vertical-align: middle;\n",
       "    }\n",
       "\n",
       "    .dataframe tbody tr th {\n",
       "        vertical-align: top;\n",
       "    }\n",
       "\n",
       "    .dataframe thead th {\n",
       "        text-align: right;\n",
       "    }\n",
       "</style>\n",
       "<table border=\"1\" class=\"dataframe\">\n",
       "  <thead>\n",
       "    <tr style=\"text-align: right;\">\n",
       "      <th></th>\n",
       "      <th>case_number</th>\n",
       "      <th>date</th>\n",
       "      <th>year</th>\n",
       "      <th>type</th>\n",
       "      <th>country</th>\n",
       "      <th>area</th>\n",
       "      <th>location</th>\n",
       "      <th>activity</th>\n",
       "      <th>name</th>\n",
       "      <th>sex</th>\n",
       "      <th>age</th>\n",
       "      <th>injury</th>\n",
       "      <th>fatal</th>\n",
       "      <th>time</th>\n",
       "      <th>species</th>\n",
       "      <th>investigator_or_source</th>\n",
       "      <th>pdf</th>\n",
       "      <th>href_formula</th>\n",
       "      <th>href</th>\n",
       "      <th>case_number_1</th>\n",
       "      <th>case_number_2</th>\n",
       "      <th>original_order</th>\n",
       "      <th>day</th>\n",
       "      <th>month</th>\n",
       "      <th>year2</th>\n",
       "    </tr>\n",
       "  </thead>\n",
       "  <tbody>\n",
       "    <tr>\n",
       "      <th>0</th>\n",
       "      <td>2018.06.25</td>\n",
       "      <td>25-Jun-2018</td>\n",
       "      <td>2018</td>\n",
       "      <td>Boat</td>\n",
       "      <td>USA</td>\n",
       "      <td>California</td>\n",
       "      <td>Oceanside, San Diego County</td>\n",
       "      <td>Wading</td>\n",
       "      <td>Julie Wolfe</td>\n",
       "      <td>F</td>\n",
       "      <td>57</td>\n",
       "      <td>No injury to occupant, outrigger canoe and pad...</td>\n",
       "      <td>N</td>\n",
       "      <td>evening</td>\n",
       "      <td>White</td>\n",
       "      <td>R. Collier, GSAF</td>\n",
       "      <td>2018.06.25-Wolfe.pdf</td>\n",
       "      <td>http://sharkattackfile.net/spreadsheets/pdf_di...</td>\n",
       "      <td>http://sharkattackfile.net/spreadsheets/pdf_di...</td>\n",
       "      <td>2018.06.25</td>\n",
       "      <td>2018.06.25</td>\n",
       "      <td>6303.0</td>\n",
       "      <td>25</td>\n",
       "      <td>Jun</td>\n",
       "      <td>2018</td>\n",
       "    </tr>\n",
       "    <tr>\n",
       "      <th>2</th>\n",
       "      <td>2018.06.09</td>\n",
       "      <td>09-Jun-2018</td>\n",
       "      <td>2018</td>\n",
       "      <td>Invalid</td>\n",
       "      <td>USA</td>\n",
       "      <td>Hawaii</td>\n",
       "      <td>Habush, Oahu</td>\n",
       "      <td>Surfing</td>\n",
       "      <td>John Denges</td>\n",
       "      <td>M</td>\n",
       "      <td>48</td>\n",
       "      <td>Injury to left lower leg from surfboard skeg</td>\n",
       "      <td>N</td>\n",
       "      <td>morning</td>\n",
       "      <td>Other</td>\n",
       "      <td>K.McMurray, TrackingSharks.com</td>\n",
       "      <td>2018.06.09-Denges.pdf</td>\n",
       "      <td>http://sharkattackfile.net/spreadsheets/pdf_di...</td>\n",
       "      <td>http://sharkattackfile.net/spreadsheets/pdf_di...</td>\n",
       "      <td>2018.06.09</td>\n",
       "      <td>2018.06.09</td>\n",
       "      <td>6301.0</td>\n",
       "      <td>09</td>\n",
       "      <td>Jun</td>\n",
       "      <td>2018</td>\n",
       "    </tr>\n",
       "    <tr>\n",
       "      <th>8</th>\n",
       "      <td>2018.05.26.b</td>\n",
       "      <td>26-May-2018</td>\n",
       "      <td>2018</td>\n",
       "      <td>Unprovoked</td>\n",
       "      <td>USA</td>\n",
       "      <td>Florida</td>\n",
       "      <td>Cocoa Beach, Brevard  County</td>\n",
       "      <td>Wading</td>\n",
       "      <td>Cody High</td>\n",
       "      <td>M</td>\n",
       "      <td>15</td>\n",
       "      <td>Lower left leg bitten</td>\n",
       "      <td>N</td>\n",
       "      <td>afternoon</td>\n",
       "      <td>Bull</td>\n",
       "      <td>K.McMurray, TrackingSharks.com</td>\n",
       "      <td>2018.05.26.b-High.pdf</td>\n",
       "      <td>http://sharkattackfile.net/spreadsheets/pdf_di...</td>\n",
       "      <td>http://sharkattackfile.net/spreadsheets/pdf_di...</td>\n",
       "      <td>2018.05.26.b</td>\n",
       "      <td>2018.05.26.b</td>\n",
       "      <td>6295.0</td>\n",
       "      <td>26</td>\n",
       "      <td>May</td>\n",
       "      <td>2018</td>\n",
       "    </tr>\n",
       "    <tr>\n",
       "      <th>12</th>\n",
       "      <td>2018.05.13.b</td>\n",
       "      <td>13-May-2018</td>\n",
       "      <td>2018</td>\n",
       "      <td>Unprovoked</td>\n",
       "      <td>USA</td>\n",
       "      <td>South Carolina</td>\n",
       "      <td>Hilton Head Island, Beaufort County</td>\n",
       "      <td>Swimming</td>\n",
       "      <td>Jei Turrell</td>\n",
       "      <td>M</td>\n",
       "      <td>10</td>\n",
       "      <td>Severe bite to right forearm</td>\n",
       "      <td>N</td>\n",
       "      <td>afternoon</td>\n",
       "      <td>Other</td>\n",
       "      <td>C. Creswell, GSAF &amp; K. McMurray TrackingSharks...</td>\n",
       "      <td>2018.05.13.b-Turrell.pdf</td>\n",
       "      <td>http://sharkattackfile.net/spreadsheets/pdf_di...</td>\n",
       "      <td>http://sharkattackfile.net/spreadsheets/pdf_di...</td>\n",
       "      <td>2018.05.13.b</td>\n",
       "      <td>2018.05.13.b</td>\n",
       "      <td>6291.0</td>\n",
       "      <td>13</td>\n",
       "      <td>May</td>\n",
       "      <td>2018</td>\n",
       "    </tr>\n",
       "    <tr>\n",
       "      <th>13</th>\n",
       "      <td>2018.05.13.a</td>\n",
       "      <td>13-May-2018</td>\n",
       "      <td>2018</td>\n",
       "      <td>Invalid</td>\n",
       "      <td>ENGLAND</td>\n",
       "      <td>Cornwall</td>\n",
       "      <td>Off Land's End</td>\n",
       "      <td>Fishing</td>\n",
       "      <td>Max Berryman</td>\n",
       "      <td>M</td>\n",
       "      <td>21</td>\n",
       "      <td>Injured by teeth of a dead porbeagle shark he ...</td>\n",
       "      <td>N</td>\n",
       "      <td>morning</td>\n",
       "      <td>Other</td>\n",
       "      <td>K. McMurray, TrackingSharks.com</td>\n",
       "      <td>2018.05.13.a-Berryman.pdf</td>\n",
       "      <td>http://sharkattackfile.net/spreadsheets/pdf_di...</td>\n",
       "      <td>http://sharkattackfile.net/spreadsheets/pdf_di...</td>\n",
       "      <td>2018.05.13.a</td>\n",
       "      <td>2018.05.13.a</td>\n",
       "      <td>6290.0</td>\n",
       "      <td>13</td>\n",
       "      <td>May</td>\n",
       "      <td>2018</td>\n",
       "    </tr>\n",
       "  </tbody>\n",
       "</table>\n",
       "</div>"
      ],
      "text/plain": [
       "     case_number         date  year        type  country            area  \\\n",
       "0     2018.06.25  25-Jun-2018  2018        Boat      USA      California   \n",
       "2     2018.06.09  09-Jun-2018  2018     Invalid      USA          Hawaii   \n",
       "8   2018.05.26.b  26-May-2018  2018  Unprovoked      USA         Florida   \n",
       "12  2018.05.13.b  13-May-2018  2018  Unprovoked      USA  South Carolina   \n",
       "13  2018.05.13.a  13-May-2018  2018     Invalid  ENGLAND        Cornwall   \n",
       "\n",
       "                               location  activity          name sex age  \\\n",
       "0           Oceanside, San Diego County    Wading   Julie Wolfe   F  57   \n",
       "2                          Habush, Oahu   Surfing   John Denges   M  48   \n",
       "8          Cocoa Beach, Brevard  County    Wading     Cody High   M  15   \n",
       "12  Hilton Head Island, Beaufort County  Swimming   Jei Turrell   M  10   \n",
       "13                       Off Land's End   Fishing  Max Berryman   M  21   \n",
       "\n",
       "                                               injury fatal       time  \\\n",
       "0   No injury to occupant, outrigger canoe and pad...     N    evening   \n",
       "2        Injury to left lower leg from surfboard skeg     N    morning   \n",
       "8                               Lower left leg bitten     N  afternoon   \n",
       "12                       Severe bite to right forearm     N  afternoon   \n",
       "13  Injured by teeth of a dead porbeagle shark he ...     N    morning   \n",
       "\n",
       "   species                             investigator_or_source  \\\n",
       "0    White                                   R. Collier, GSAF   \n",
       "2    Other                     K.McMurray, TrackingSharks.com   \n",
       "8     Bull                     K.McMurray, TrackingSharks.com   \n",
       "12   Other  C. Creswell, GSAF & K. McMurray TrackingSharks...   \n",
       "13   Other                    K. McMurray, TrackingSharks.com   \n",
       "\n",
       "                          pdf  \\\n",
       "0        2018.06.25-Wolfe.pdf   \n",
       "2       2018.06.09-Denges.pdf   \n",
       "8       2018.05.26.b-High.pdf   \n",
       "12   2018.05.13.b-Turrell.pdf   \n",
       "13  2018.05.13.a-Berryman.pdf   \n",
       "\n",
       "                                         href_formula  \\\n",
       "0   http://sharkattackfile.net/spreadsheets/pdf_di...   \n",
       "2   http://sharkattackfile.net/spreadsheets/pdf_di...   \n",
       "8   http://sharkattackfile.net/spreadsheets/pdf_di...   \n",
       "12  http://sharkattackfile.net/spreadsheets/pdf_di...   \n",
       "13  http://sharkattackfile.net/spreadsheets/pdf_di...   \n",
       "\n",
       "                                                 href case_number_1  \\\n",
       "0   http://sharkattackfile.net/spreadsheets/pdf_di...    2018.06.25   \n",
       "2   http://sharkattackfile.net/spreadsheets/pdf_di...    2018.06.09   \n",
       "8   http://sharkattackfile.net/spreadsheets/pdf_di...  2018.05.26.b   \n",
       "12  http://sharkattackfile.net/spreadsheets/pdf_di...  2018.05.13.b   \n",
       "13  http://sharkattackfile.net/spreadsheets/pdf_di...  2018.05.13.a   \n",
       "\n",
       "   case_number_2 original_order day month year2  \n",
       "0     2018.06.25         6303.0  25   Jun  2018  \n",
       "2     2018.06.09         6301.0  09   Jun  2018  \n",
       "8   2018.05.26.b         6295.0  26   May  2018  \n",
       "12  2018.05.13.b         6291.0  13   May  2018  \n",
       "13  2018.05.13.a         6290.0  13   May  2018  "
      ]
     },
     "execution_count": 81,
     "metadata": {},
     "output_type": "execute_result"
    }
   ],
   "source": [
    "# Extract day, month, and year using regular expressions\n",
    "sharks[['day', 'month', 'year2']] = sharks['date'].str.extract(r'(\\d+)?-(\\w+)?-(\\d+)?')\n",
    "\n",
    "# Fill 'unknown' for missing values\n",
    "sharks['day'].fillna('unknown', inplace=True)\n",
    "sharks['month'].fillna('unknown', inplace=True)\n",
    "sharks['year'].fillna('unknown', inplace=True)\n",
    "\n",
    "# Resulting DataFrame\n",
    "sharks.head()\n"
   ]
  },
  {
   "cell_type": "code",
   "execution_count": 82,
   "metadata": {},
   "outputs": [
    {
     "data": {
      "text/html": [
       "<div>\n",
       "<style scoped>\n",
       "    .dataframe tbody tr th:only-of-type {\n",
       "        vertical-align: middle;\n",
       "    }\n",
       "\n",
       "    .dataframe tbody tr th {\n",
       "        vertical-align: top;\n",
       "    }\n",
       "\n",
       "    .dataframe thead th {\n",
       "        text-align: right;\n",
       "    }\n",
       "</style>\n",
       "<table border=\"1\" class=\"dataframe\">\n",
       "  <thead>\n",
       "    <tr style=\"text-align: right;\">\n",
       "      <th></th>\n",
       "      <th>case_number</th>\n",
       "      <th>date</th>\n",
       "      <th>year</th>\n",
       "      <th>type</th>\n",
       "      <th>country</th>\n",
       "      <th>area</th>\n",
       "      <th>location</th>\n",
       "      <th>activity</th>\n",
       "      <th>name</th>\n",
       "      <th>sex</th>\n",
       "      <th>age</th>\n",
       "      <th>injury</th>\n",
       "      <th>fatal</th>\n",
       "      <th>time</th>\n",
       "      <th>species</th>\n",
       "      <th>investigator_or_source</th>\n",
       "      <th>pdf</th>\n",
       "      <th>href_formula</th>\n",
       "      <th>href</th>\n",
       "      <th>case_number_1</th>\n",
       "      <th>case_number_2</th>\n",
       "      <th>original_order</th>\n",
       "      <th>day</th>\n",
       "      <th>month</th>\n",
       "      <th>year2</th>\n",
       "    </tr>\n",
       "  </thead>\n",
       "  <tbody>\n",
       "  </tbody>\n",
       "</table>\n",
       "</div>"
      ],
      "text/plain": [
       "Empty DataFrame\n",
       "Columns: [case_number, date, year, type, country, area, location, activity, name, sex, age, injury, fatal, time, species, investigator_or_source, pdf, href_formula, href, case_number_1, case_number_2, original_order, day, month, year2]\n",
       "Index: []"
      ]
     },
     "execution_count": 82,
     "metadata": {},
     "output_type": "execute_result"
    }
   ],
   "source": [
    "filtered_df = sharks[(sharks['year'] == 'unknown') & (sharks['year2'] != 'unknown')]\n",
    "filtered_df"
   ]
  },
  {
   "cell_type": "markdown",
   "metadata": {},
   "source": [
    "Let's drop the year2 & date column and rearrange order of columns"
   ]
  },
  {
   "cell_type": "code",
   "execution_count": 83,
   "metadata": {},
   "outputs": [],
   "source": [
    "sharks.drop(columns=['year2', 'date'], inplace=True)"
   ]
  },
  {
   "cell_type": "code",
   "execution_count": 84,
   "metadata": {},
   "outputs": [
    {
     "data": {
      "text/plain": [
       "Index(['case_number', 'year', 'type', 'country', 'area', 'location',\n",
       "       'activity', 'name', 'sex', 'age', 'injury', 'fatal', 'time', 'species',\n",
       "       'investigator_or_source', 'pdf', 'href_formula', 'href',\n",
       "       'case_number_1', 'case_number_2', 'original_order', 'day', 'month'],\n",
       "      dtype='object')"
      ]
     },
     "execution_count": 84,
     "metadata": {},
     "output_type": "execute_result"
    }
   ],
   "source": [
    "sharks.columns"
   ]
  },
  {
   "cell_type": "code",
   "execution_count": 85,
   "metadata": {},
   "outputs": [],
   "source": [
    "new_order = ['day', 'month', 'year', 'time', 'country', 'area', 'location',\n",
    "       'name', 'sex', 'age', 'type',\n",
    "       'activity', 'injury', 'fatal', 'species',\n",
    "       'original_order', 'investigator_or_source', 'pdf', 'href_formula',\n",
    "       'href', 'case_number']"
   ]
  },
  {
   "cell_type": "code",
   "execution_count": 86,
   "metadata": {},
   "outputs": [],
   "source": [
    "sharks = sharks[new_order]"
   ]
  },
  {
   "cell_type": "markdown",
   "metadata": {},
   "source": [
    "### Normalizing the `fatal` column"
   ]
  },
  {
   "cell_type": "code",
   "execution_count": 87,
   "metadata": {},
   "outputs": [
    {
     "data": {
      "text/plain": [
       "fatal\n",
       "N          2125\n",
       "Y           520\n",
       "unknown     213\n",
       "UNKNOWN      21\n",
       "M             1\n",
       "2017          1\n",
       "Name: count, dtype: int64"
      ]
     },
     "execution_count": 87,
     "metadata": {},
     "output_type": "execute_result"
    }
   ],
   "source": [
    "sharks.fatal.value_counts()"
   ]
  },
  {
   "cell_type": "code",
   "execution_count": 88,
   "metadata": {},
   "outputs": [
    {
     "data": {
      "text/html": [
       "<div>\n",
       "<style scoped>\n",
       "    .dataframe tbody tr th:only-of-type {\n",
       "        vertical-align: middle;\n",
       "    }\n",
       "\n",
       "    .dataframe tbody tr th {\n",
       "        vertical-align: top;\n",
       "    }\n",
       "\n",
       "    .dataframe thead th {\n",
       "        text-align: right;\n",
       "    }\n",
       "</style>\n",
       "<table border=\"1\" class=\"dataframe\">\n",
       "  <thead>\n",
       "    <tr style=\"text-align: right;\">\n",
       "      <th></th>\n",
       "      <th>day</th>\n",
       "      <th>month</th>\n",
       "      <th>year</th>\n",
       "      <th>time</th>\n",
       "      <th>country</th>\n",
       "      <th>area</th>\n",
       "      <th>location</th>\n",
       "      <th>name</th>\n",
       "      <th>sex</th>\n",
       "      <th>age</th>\n",
       "      <th>type</th>\n",
       "      <th>activity</th>\n",
       "      <th>injury</th>\n",
       "      <th>fatal</th>\n",
       "      <th>species</th>\n",
       "      <th>original_order</th>\n",
       "      <th>investigator_or_source</th>\n",
       "      <th>pdf</th>\n",
       "      <th>href_formula</th>\n",
       "      <th>href</th>\n",
       "      <th>case_number</th>\n",
       "    </tr>\n",
       "  </thead>\n",
       "  <tbody>\n",
       "    <tr>\n",
       "      <th>285</th>\n",
       "      <td>18</td>\n",
       "      <td>Apr</td>\n",
       "      <td>2016</td>\n",
       "      <td>morning</td>\n",
       "      <td>FRENCH POLYNESIA</td>\n",
       "      <td>Tuamotos</td>\n",
       "      <td>Makemo Atoll</td>\n",
       "      <td>Maximo Trinidad</td>\n",
       "      <td>M</td>\n",
       "      <td>22</td>\n",
       "      <td>Provoked</td>\n",
       "      <td>Spearfishing</td>\n",
       "      <td>Laceration to knee by speared shark PROVOKED I...</td>\n",
       "      <td>M</td>\n",
       "      <td>Reef</td>\n",
       "      <td>6018.0</td>\n",
       "      <td>TNTV News, 4/19/2016</td>\n",
       "      <td>2016.04.18.b-Iotua.pdf</td>\n",
       "      <td>http://sharkattackfile.net/spreadsheets/pdf_di...</td>\n",
       "      <td>http://sharkattackfile.net/spreadsheets/pdf_di...</td>\n",
       "      <td>2016.04.18.b</td>\n",
       "    </tr>\n",
       "  </tbody>\n",
       "</table>\n",
       "</div>"
      ],
      "text/plain": [
       "    day month  year     time           country      area      location  \\\n",
       "285  18   Apr  2016  morning  FRENCH POLYNESIA  Tuamotos  Makemo Atoll   \n",
       "\n",
       "                name sex age      type      activity  \\\n",
       "285  Maximo Trinidad   M  22  Provoked  Spearfishing   \n",
       "\n",
       "                                                injury fatal species  \\\n",
       "285  Laceration to knee by speared shark PROVOKED I...     M    Reef   \n",
       "\n",
       "    original_order investigator_or_source                     pdf  \\\n",
       "285         6018.0   TNTV News, 4/19/2016  2016.04.18.b-Iotua.pdf   \n",
       "\n",
       "                                          href_formula  \\\n",
       "285  http://sharkattackfile.net/spreadsheets/pdf_di...   \n",
       "\n",
       "                                                  href   case_number  \n",
       "285  http://sharkattackfile.net/spreadsheets/pdf_di...  2016.04.18.b  "
      ]
     },
     "execution_count": 88,
     "metadata": {},
     "output_type": "execute_result"
    }
   ],
   "source": [
    "sharks[sharks['fatal'] == 'M']"
   ]
  },
  {
   "cell_type": "code",
   "execution_count": 89,
   "metadata": {},
   "outputs": [
    {
     "data": {
      "text/plain": [
       "fatal\n",
       "N          2126\n",
       "Y           520\n",
       "UNKNOWN     234\n",
       "Name: count, dtype: int64"
      ]
     },
     "execution_count": 89,
     "metadata": {},
     "output_type": "execute_result"
    }
   ],
   "source": [
    "# Step 1: Remove all spaces and convert all values to uppercase\n",
    "sharks['fatal'] = sharks['fatal'].str.replace(\" \", \"\").str.upper()\n",
    "# Step 2: Replace 'M' with 'N'\n",
    "sharks['fatal'].replace({'M': 'N'}, inplace=True)\n",
    "# Step 3: Remove the row with '2017'\n",
    "sharks = sharks[sharks['fatal'] != '2017']\n",
    "\n",
    "\n",
    "sharks.fatal.value_counts()"
   ]
  },
  {
   "cell_type": "markdown",
   "metadata": {},
   "source": [
    "## Step 6: Export clean dataset 💾"
   ]
  },
  {
   "cell_type": "code",
   "execution_count": 90,
   "metadata": {},
   "outputs": [
    {
     "data": {
      "text/plain": [
       "(25723, 24)"
      ]
     },
     "execution_count": 90,
     "metadata": {},
     "output_type": "execute_result"
    }
   ],
   "source": [
    "original_shape"
   ]
  },
  {
   "cell_type": "code",
   "execution_count": 91,
   "metadata": {},
   "outputs": [
    {
     "data": {
      "text/plain": [
       "(2880, 21)"
      ]
     },
     "execution_count": 91,
     "metadata": {},
     "output_type": "execute_result"
    }
   ],
   "source": [
    "sharks.shape"
   ]
  },
  {
   "cell_type": "code",
   "execution_count": 92,
   "metadata": {},
   "outputs": [
    {
     "data": {
      "text/plain": [
       "False"
      ]
     },
     "execution_count": 92,
     "metadata": {},
     "output_type": "execute_result"
    }
   ],
   "source": [
    "sharks.duplicated().any()"
   ]
  },
  {
   "cell_type": "code",
   "execution_count": 93,
   "metadata": {},
   "outputs": [
    {
     "data": {
      "text/html": [
       "<div>\n",
       "<style scoped>\n",
       "    .dataframe tbody tr th:only-of-type {\n",
       "        vertical-align: middle;\n",
       "    }\n",
       "\n",
       "    .dataframe tbody tr th {\n",
       "        vertical-align: top;\n",
       "    }\n",
       "\n",
       "    .dataframe thead th {\n",
       "        text-align: right;\n",
       "    }\n",
       "</style>\n",
       "<table border=\"1\" class=\"dataframe\">\n",
       "  <thead>\n",
       "    <tr style=\"text-align: right;\">\n",
       "      <th></th>\n",
       "      <th>day</th>\n",
       "      <th>month</th>\n",
       "      <th>year</th>\n",
       "      <th>time</th>\n",
       "      <th>country</th>\n",
       "      <th>area</th>\n",
       "      <th>location</th>\n",
       "      <th>name</th>\n",
       "      <th>sex</th>\n",
       "      <th>age</th>\n",
       "      <th>type</th>\n",
       "      <th>activity</th>\n",
       "      <th>injury</th>\n",
       "      <th>fatal</th>\n",
       "      <th>species</th>\n",
       "      <th>original_order</th>\n",
       "      <th>investigator_or_source</th>\n",
       "      <th>pdf</th>\n",
       "      <th>href_formula</th>\n",
       "      <th>href</th>\n",
       "      <th>case_number</th>\n",
       "    </tr>\n",
       "  </thead>\n",
       "  <tbody>\n",
       "    <tr>\n",
       "      <th>0</th>\n",
       "      <td>25</td>\n",
       "      <td>Jun</td>\n",
       "      <td>2018</td>\n",
       "      <td>evening</td>\n",
       "      <td>USA</td>\n",
       "      <td>California</td>\n",
       "      <td>Oceanside, San Diego County</td>\n",
       "      <td>Julie Wolfe</td>\n",
       "      <td>F</td>\n",
       "      <td>57</td>\n",
       "      <td>Boat</td>\n",
       "      <td>Wading</td>\n",
       "      <td>No injury to occupant, outrigger canoe and pad...</td>\n",
       "      <td>N</td>\n",
       "      <td>White</td>\n",
       "      <td>6303.0</td>\n",
       "      <td>R. Collier, GSAF</td>\n",
       "      <td>2018.06.25-Wolfe.pdf</td>\n",
       "      <td>http://sharkattackfile.net/spreadsheets/pdf_di...</td>\n",
       "      <td>http://sharkattackfile.net/spreadsheets/pdf_di...</td>\n",
       "      <td>2018.06.25</td>\n",
       "    </tr>\n",
       "    <tr>\n",
       "      <th>2</th>\n",
       "      <td>09</td>\n",
       "      <td>Jun</td>\n",
       "      <td>2018</td>\n",
       "      <td>morning</td>\n",
       "      <td>USA</td>\n",
       "      <td>Hawaii</td>\n",
       "      <td>Habush, Oahu</td>\n",
       "      <td>John Denges</td>\n",
       "      <td>M</td>\n",
       "      <td>48</td>\n",
       "      <td>Invalid</td>\n",
       "      <td>Surfing</td>\n",
       "      <td>Injury to left lower leg from surfboard skeg</td>\n",
       "      <td>N</td>\n",
       "      <td>Other</td>\n",
       "      <td>6301.0</td>\n",
       "      <td>K.McMurray, TrackingSharks.com</td>\n",
       "      <td>2018.06.09-Denges.pdf</td>\n",
       "      <td>http://sharkattackfile.net/spreadsheets/pdf_di...</td>\n",
       "      <td>http://sharkattackfile.net/spreadsheets/pdf_di...</td>\n",
       "      <td>2018.06.09</td>\n",
       "    </tr>\n",
       "    <tr>\n",
       "      <th>8</th>\n",
       "      <td>26</td>\n",
       "      <td>May</td>\n",
       "      <td>2018</td>\n",
       "      <td>afternoon</td>\n",
       "      <td>USA</td>\n",
       "      <td>Florida</td>\n",
       "      <td>Cocoa Beach, Brevard  County</td>\n",
       "      <td>Cody High</td>\n",
       "      <td>M</td>\n",
       "      <td>15</td>\n",
       "      <td>Unprovoked</td>\n",
       "      <td>Wading</td>\n",
       "      <td>Lower left leg bitten</td>\n",
       "      <td>N</td>\n",
       "      <td>Bull</td>\n",
       "      <td>6295.0</td>\n",
       "      <td>K.McMurray, TrackingSharks.com</td>\n",
       "      <td>2018.05.26.b-High.pdf</td>\n",
       "      <td>http://sharkattackfile.net/spreadsheets/pdf_di...</td>\n",
       "      <td>http://sharkattackfile.net/spreadsheets/pdf_di...</td>\n",
       "      <td>2018.05.26.b</td>\n",
       "    </tr>\n",
       "    <tr>\n",
       "      <th>12</th>\n",
       "      <td>13</td>\n",
       "      <td>May</td>\n",
       "      <td>2018</td>\n",
       "      <td>afternoon</td>\n",
       "      <td>USA</td>\n",
       "      <td>South Carolina</td>\n",
       "      <td>Hilton Head Island, Beaufort County</td>\n",
       "      <td>Jei Turrell</td>\n",
       "      <td>M</td>\n",
       "      <td>10</td>\n",
       "      <td>Unprovoked</td>\n",
       "      <td>Swimming</td>\n",
       "      <td>Severe bite to right forearm</td>\n",
       "      <td>N</td>\n",
       "      <td>Other</td>\n",
       "      <td>6291.0</td>\n",
       "      <td>C. Creswell, GSAF &amp; K. McMurray TrackingSharks...</td>\n",
       "      <td>2018.05.13.b-Turrell.pdf</td>\n",
       "      <td>http://sharkattackfile.net/spreadsheets/pdf_di...</td>\n",
       "      <td>http://sharkattackfile.net/spreadsheets/pdf_di...</td>\n",
       "      <td>2018.05.13.b</td>\n",
       "    </tr>\n",
       "    <tr>\n",
       "      <th>13</th>\n",
       "      <td>13</td>\n",
       "      <td>May</td>\n",
       "      <td>2018</td>\n",
       "      <td>morning</td>\n",
       "      <td>ENGLAND</td>\n",
       "      <td>Cornwall</td>\n",
       "      <td>Off Land's End</td>\n",
       "      <td>Max Berryman</td>\n",
       "      <td>M</td>\n",
       "      <td>21</td>\n",
       "      <td>Invalid</td>\n",
       "      <td>Fishing</td>\n",
       "      <td>Injured by teeth of a dead porbeagle shark he ...</td>\n",
       "      <td>N</td>\n",
       "      <td>Other</td>\n",
       "      <td>6290.0</td>\n",
       "      <td>K. McMurray, TrackingSharks.com</td>\n",
       "      <td>2018.05.13.a-Berryman.pdf</td>\n",
       "      <td>http://sharkattackfile.net/spreadsheets/pdf_di...</td>\n",
       "      <td>http://sharkattackfile.net/spreadsheets/pdf_di...</td>\n",
       "      <td>2018.05.13.a</td>\n",
       "    </tr>\n",
       "  </tbody>\n",
       "</table>\n",
       "</div>"
      ],
      "text/plain": [
       "   day month  year       time  country            area  \\\n",
       "0   25   Jun  2018    evening      USA      California   \n",
       "2   09   Jun  2018    morning      USA          Hawaii   \n",
       "8   26   May  2018  afternoon      USA         Florida   \n",
       "12  13   May  2018  afternoon      USA  South Carolina   \n",
       "13  13   May  2018    morning  ENGLAND        Cornwall   \n",
       "\n",
       "                               location          name sex age        type  \\\n",
       "0           Oceanside, San Diego County   Julie Wolfe   F  57        Boat   \n",
       "2                          Habush, Oahu   John Denges   M  48     Invalid   \n",
       "8          Cocoa Beach, Brevard  County     Cody High   M  15  Unprovoked   \n",
       "12  Hilton Head Island, Beaufort County   Jei Turrell   M  10  Unprovoked   \n",
       "13                       Off Land's End  Max Berryman   M  21     Invalid   \n",
       "\n",
       "    activity                                             injury fatal species  \\\n",
       "0     Wading  No injury to occupant, outrigger canoe and pad...     N   White   \n",
       "2    Surfing       Injury to left lower leg from surfboard skeg     N   Other   \n",
       "8     Wading                              Lower left leg bitten     N    Bull   \n",
       "12  Swimming                       Severe bite to right forearm     N   Other   \n",
       "13   Fishing  Injured by teeth of a dead porbeagle shark he ...     N   Other   \n",
       "\n",
       "   original_order                             investigator_or_source  \\\n",
       "0          6303.0                                   R. Collier, GSAF   \n",
       "2          6301.0                     K.McMurray, TrackingSharks.com   \n",
       "8          6295.0                     K.McMurray, TrackingSharks.com   \n",
       "12         6291.0  C. Creswell, GSAF & K. McMurray TrackingSharks...   \n",
       "13         6290.0                    K. McMurray, TrackingSharks.com   \n",
       "\n",
       "                          pdf  \\\n",
       "0        2018.06.25-Wolfe.pdf   \n",
       "2       2018.06.09-Denges.pdf   \n",
       "8       2018.05.26.b-High.pdf   \n",
       "12   2018.05.13.b-Turrell.pdf   \n",
       "13  2018.05.13.a-Berryman.pdf   \n",
       "\n",
       "                                         href_formula  \\\n",
       "0   http://sharkattackfile.net/spreadsheets/pdf_di...   \n",
       "2   http://sharkattackfile.net/spreadsheets/pdf_di...   \n",
       "8   http://sharkattackfile.net/spreadsheets/pdf_di...   \n",
       "12  http://sharkattackfile.net/spreadsheets/pdf_di...   \n",
       "13  http://sharkattackfile.net/spreadsheets/pdf_di...   \n",
       "\n",
       "                                                 href   case_number  \n",
       "0   http://sharkattackfile.net/spreadsheets/pdf_di...    2018.06.25  \n",
       "2   http://sharkattackfile.net/spreadsheets/pdf_di...    2018.06.09  \n",
       "8   http://sharkattackfile.net/spreadsheets/pdf_di...  2018.05.26.b  \n",
       "12  http://sharkattackfile.net/spreadsheets/pdf_di...  2018.05.13.b  \n",
       "13  http://sharkattackfile.net/spreadsheets/pdf_di...  2018.05.13.a  "
      ]
     },
     "execution_count": 93,
     "metadata": {},
     "output_type": "execute_result"
    }
   ],
   "source": [
    "sharks.head()"
   ]
  },
  {
   "cell_type": "code",
   "execution_count": 94,
   "metadata": {},
   "outputs": [],
   "source": [
    "sharks.reset_index(inplace=True)\n",
    "sharks.to_csv('../data/shark_attacks_clean.csv', index=False)"
   ]
  }
 ],
 "metadata": {
  "kernelspec": {
   "display_name": "clase",
   "language": "python",
   "name": "clase"
  },
  "language_info": {
   "codemirror_mode": {
    "name": "ipython",
    "version": 3
   },
   "file_extension": ".py",
   "mimetype": "text/x-python",
   "name": "python",
   "nbconvert_exporter": "python",
   "pygments_lexer": "ipython3",
   "version": "3.10.13"
  }
 },
 "nbformat": 4,
 "nbformat_minor": 2
}
